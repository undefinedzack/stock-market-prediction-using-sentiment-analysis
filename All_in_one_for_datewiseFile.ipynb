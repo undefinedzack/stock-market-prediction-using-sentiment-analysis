{
  "nbformat": 4,
  "nbformat_minor": 0,
  "metadata": {
    "colab": {
      "name": "All_in_one_for_datewiseFile",
      "provenance": [],
      "collapsed_sections": [],
      "include_colab_link": true
    },
    "kernelspec": {
      "name": "python3",
      "display_name": "Python 3"
    },
    "language_info": {
      "name": "python"
    }
  },
  "cells": [
    {
      "cell_type": "markdown",
      "metadata": {
        "id": "view-in-github",
        "colab_type": "text"
      },
      "source": [
        "<a href=\"https://colab.research.google.com/github/undefinedzack/stock-market-prediction-using-sentiment-analysis/blob/master/All_in_one_for_datewiseFile.ipynb\" target=\"_parent\"><img src=\"https://colab.research.google.com/assets/colab-badge.svg\" alt=\"Open In Colab\"/></a>"
      ]
    },
    {
      "cell_type": "code",
      "metadata": {
        "colab": {
          "base_uri": "https://localhost:8080/"
        },
        "id": "y72b9oKwnv6v",
        "outputId": "341cf6f4-62cc-4c09-e78a-428671885f7a"
      },
      "source": [
        "# Data Manipulation\n",
        "\n",
        "import numpy as np\n",
        "import pandas as pd\n",
        "import re\n",
        "\n",
        "# Preprocessing the input data\n",
        "\n",
        "import nltk\n",
        "from bs4 import BeautifulSoup\n",
        "from nltk import word_tokenize\n",
        "from nltk.corpus import stopwords\n",
        "from nltk.stem import WordNetLemmatizer\n",
        "from nltk.stem.porter import PorterStemmer\n",
        "\n",
        "# Creating ngrams and vectorizing the data\n",
        "\n",
        "from gensim.models import Word2Vec, Phrases\n",
        "from gensim.models.phrases import Phraser\n",
        "\n",
        "# Tools for building a model\n",
        "\n",
        "from sklearn.model_selection import train_test_split\n",
        "from keras.models import Sequential\n",
        "from keras.layers import Dense, LSTM, Dropout, Bidirectional\n",
        "from keras.layers.embeddings import Embedding\n",
        "from keras.preprocessing.sequence import pad_sequences\n",
        "import tensorflow as tf\n",
        "\n",
        "nltk.download('stopwords')\n",
        "nltk.download('punkt')\n",
        "nltk.download('wordnet')"
      ],
      "execution_count": 20,
      "outputs": [
        {
          "output_type": "stream",
          "text": [
            "[nltk_data] Downloading package stopwords to /root/nltk_data...\n",
            "[nltk_data]   Package stopwords is already up-to-date!\n",
            "[nltk_data] Downloading package punkt to /root/nltk_data...\n",
            "[nltk_data]   Package punkt is already up-to-date!\n",
            "[nltk_data] Downloading package wordnet to /root/nltk_data...\n",
            "[nltk_data]   Package wordnet is already up-to-date!\n"
          ],
          "name": "stdout"
        },
        {
          "output_type": "execute_result",
          "data": {
            "text/plain": [
              "True"
            ]
          },
          "metadata": {
            "tags": []
          },
          "execution_count": 20
        }
      ]
    },
    {
      "cell_type": "code",
      "metadata": {
        "colab": {
          "base_uri": "https://localhost:8080/"
        },
        "id": "qvc-CeRwn3X2",
        "outputId": "7c326ba8-0b12-4a30-bfbb-6dce805a5cf7"
      },
      "source": [
        "from google.colab import drive\n",
        "drive.mount('/content/drive')\n",
        "%cd drive/MyDrive/Colab_Data/\n",
        "%ls -l"
      ],
      "execution_count": 21,
      "outputs": [
        {
          "output_type": "stream",
          "text": [
            "Drive already mounted at /content/drive; to attempt to forcibly remount, call drive.mount(\"/content/drive\", force_remount=True).\n",
            "[Errno 2] No such file or directory: 'drive/MyDrive/Colab_Data/'\n",
            "/content/drive/.shortcut-targets-by-id/1mnM1b6TaU1SW1anY35VRUPG3xIImlWjS/Colab_Data\n",
            "total 464955\n",
            "-rw------- 1 root root   2586020 Feb 20 13:52  200features_10minwords\n",
            "-rw------- 1 root root 407958406 Feb 19 10:33  causeSheDidItThisWay.csv\n",
            "-rw------- 1 root root  34251814 Mar 31 11:47 'df_stocktwits_prepared_final (1).csv'\n",
            "-rw------- 1 root root  15257600 Mar 31 11:34  df_stocktwits_prepared_final.csv\n",
            "-rw------- 1 root root   5617630 Mar 31 05:47  News.csv\n",
            "drwx------ 2 root root      4096 Mar 19 13:58  \u001b[0m\u001b[01;34msaved_model\u001b[0m/\n",
            "-rw------- 1 root root    479968 Feb 20 13:09  stock_data.csv\n",
            "-rw------- 1 root root   7076794 Feb 16 13:29  stockerbot-export1.csv\n",
            "-rw------- 1 root root    167083 Mar 31 05:46  stocks.csv\n",
            "-rw------- 1 root root   1752624 Feb 16 13:31  tweet_sentiment.csv\n",
            "-rw------- 1 root root    959890 Feb 20 13:28  tweets_labelled.csv\n"
          ],
          "name": "stdout"
        }
      ]
    },
    {
      "cell_type": "code",
      "metadata": {
        "id": "sgQfa5mRn65k",
        "colab": {
          "resources": {
            "http://localhost:8080/nbextensions/google.colab/files.js": {
              "data": "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",
              "ok": true,
              "headers": [
                [
                  "content-type",
                  "application/javascript"
                ]
              ],
              "status": 200,
              "status_text": ""
            }
          },
          "base_uri": "https://localhost:8080/",
          "height": 73
        },
        "outputId": "7133f181-bfde-4a06-cd11-23f766497743"
      },
      "source": [
        "from google.colab import files \n",
        "uploaded = files.upload()"
      ],
      "execution_count": null,
      "outputs": [
        {
          "output_type": "display_data",
          "data": {
            "text/html": [
              "\n",
              "     <input type=\"file\" id=\"files-e2ef157b-b5ac-4f25-9798-39de814e2806\" name=\"files[]\" multiple disabled\n",
              "        style=\"border:none\" />\n",
              "     <output id=\"result-e2ef157b-b5ac-4f25-9798-39de814e2806\">\n",
              "      Upload widget is only available when the cell has been executed in the\n",
              "      current browser session. Please rerun this cell to enable.\n",
              "      </output>\n",
              "      <script src=\"/nbextensions/google.colab/files.js\"></script> "
            ],
            "text/plain": [
              "<IPython.core.display.HTML object>"
            ]
          },
          "metadata": {
            "tags": []
          }
        },
        {
          "output_type": "stream",
          "text": [
            "Saving df_stocktwits_prepared_final.csv to df_stocktwits_prepared_final (1).csv\n"
          ],
          "name": "stdout"
        }
      ]
    },
    {
      "cell_type": "code",
      "metadata": {
        "id": "MqsXmdw1Ccg9"
      },
      "source": [
        "df1 = pd.read_csv('df_stocktwits_prepared_final.csv')"
      ],
      "execution_count": 22,
      "outputs": []
    },
    {
      "cell_type": "code",
      "metadata": {
        "id": "G_qev3AFCiST"
      },
      "source": [
        "df1=df1[df1.columns[0:3]]"
      ],
      "execution_count": 23,
      "outputs": []
    },
    {
      "cell_type": "code",
      "metadata": {
        "id": "dyHWnVg8Csuu"
      },
      "source": [
        "df1=df1.drop('time', axis=1)\n",
        "df1['clean_text'] = df1.groupby(['created_date'])['clean_text'].transform(lambda x : ' '.join(x))\n",
        "  \n",
        "# drop duplicate data\n",
        "df1 = df1.drop_duplicates()"
      ],
      "execution_count": 24,
      "outputs": []
    },
    {
      "cell_type": "code",
      "metadata": {
        "colab": {
          "base_uri": "https://localhost:8080/",
          "height": 196
        },
        "id": "Nkws8fuWHf7E",
        "outputId": "55d560a1-9c9d-4aa0-8429-3de0ef303e3e"
      },
      "source": [
        "df1.head()"
      ],
      "execution_count": 25,
      "outputs": [
        {
          "output_type": "execute_result",
          "data": {
            "text/html": [
              "<div>\n",
              "<style scoped>\n",
              "    .dataframe tbody tr th:only-of-type {\n",
              "        vertical-align: middle;\n",
              "    }\n",
              "\n",
              "    .dataframe tbody tr th {\n",
              "        vertical-align: top;\n",
              "    }\n",
              "\n",
              "    .dataframe thead th {\n",
              "        text-align: right;\n",
              "    }\n",
              "</style>\n",
              "<table border=\"1\" class=\"dataframe\">\n",
              "  <thead>\n",
              "    <tr style=\"text-align: right;\">\n",
              "      <th></th>\n",
              "      <th>created_date</th>\n",
              "      <th>clean_text</th>\n",
              "    </tr>\n",
              "  </thead>\n",
              "  <tbody>\n",
              "    <tr>\n",
              "      <th>0</th>\n",
              "      <td>01-01-2019</td>\n",
              "      <td>thinking about buying a lot and hold it for lo...</td>\n",
              "    </tr>\n",
              "    <tr>\n",
              "      <th>10</th>\n",
              "      <td>02-01-2019</td>\n",
              "      <td>trying for the 20 MA Will we see any dips ? Bo...</td>\n",
              "    </tr>\n",
              "    <tr>\n",
              "      <th>69</th>\n",
              "      <td>03-01-2019</td>\n",
              "      <td>$$$ _ Raytheon UK to secure hundreds of aerosp...</td>\n",
              "    </tr>\n",
              "    <tr>\n",
              "      <th>155</th>\n",
              "      <td>04-01-2019</td>\n",
              "      <td>_url Boeing remains top pick for 2019 by Baird...</td>\n",
              "    </tr>\n",
              "    <tr>\n",
              "      <th>215</th>\n",
              "      <td>05-01-2019</td>\n",
              "      <td>The Top Stocks On The Dow Jones Also _url The ...</td>\n",
              "    </tr>\n",
              "  </tbody>\n",
              "</table>\n",
              "</div>"
            ],
            "text/plain": [
              "    created_date                                         clean_text\n",
              "0     01-01-2019  thinking about buying a lot and hold it for lo...\n",
              "10    02-01-2019  trying for the 20 MA Will we see any dips ? Bo...\n",
              "69    03-01-2019  $$$ _ Raytheon UK to secure hundreds of aerosp...\n",
              "155   04-01-2019  _url Boeing remains top pick for 2019 by Baird...\n",
              "215   05-01-2019  The Top Stocks On The Dow Jones Also _url The ..."
            ]
          },
          "metadata": {
            "tags": []
          },
          "execution_count": 25
        }
      ]
    },
    {
      "cell_type": "code",
      "metadata": {
        "id": "FAt-gtnToFKN"
      },
      "source": [
        "###### CLEANING EACH STRING\n",
        "def clean(tweet :str) -> str:\n",
        "  pat1= r'@[A-Za-z0-9]+'\n",
        "  pat2= r'https?://[A-Za-z0-9./]+'\n",
        "  combined_pat=r'|'.join((pat1,pat2))\n",
        "  pat3= r'[^a-zA-Z]'\n",
        "  combined_pat2=r'|'.join((combined_pat,pat3))\n",
        "  \n",
        "  # removing HTML\n",
        "  text = BeautifulSoup(tweet, \"lxml\").get_text()\n",
        "\n",
        "  # remove non-letters\n",
        "  letters_only = re.sub(combined_pat2, \" \", text)\n",
        "\n",
        "  # converting to lower-case\n",
        "  lowercase_letters = letters_only.lower()\n",
        "\n",
        "  return lowercase_letters\n",
        "\n",
        "\n",
        "##### LEMMATIZATION\n",
        "def lemmatize(tokens :list) -> list:\n",
        "  lemmatizer = WordNetLemmatizer()\n",
        "  ps= PorterStemmer()\n",
        "  stop_words = set(stopwords.words(\"english\"))  \n",
        " \n",
        "  # lemmatize\n",
        "  lemmatized_tokens = list(map(lemmatizer.lemmatize, tokens))\n",
        "\n",
        "  # remove stop words\n",
        "  meaningful_words = list(filter(lambda x : x not in stop_words, lemmatized_tokens))\n",
        "\n",
        "  tweets = [ps.stem(word) for word in meaningful_words]\n",
        "  return tweets\n",
        "\n",
        "\n",
        "###### ALL TOGETHER\n",
        "def preprocess(tweet :str) -> list:\n",
        "\n",
        "  # clean tweet\n",
        "  clean_tweet = clean(tweet)\n",
        "\n",
        "  # tokenize\n",
        "  tokens = word_tokenize(clean_tweet)\n",
        "\n",
        "  # lemmatize\n",
        "  lemmaz = lemmatize(tokens)\n",
        "\n",
        "  return lemmaz\n",
        "\n",
        "\n",
        "###### CLEANING WHOLE DATA BY PROCESSING EACH TWEET ONE BY ONE\n",
        "def get_clean_data(tweets):\n",
        "  return np.array(list(map(preprocess, tweets )))\n",
        "\n",
        "  \n",
        "###### BUILDING TRIGRAMS MODEL\n",
        "def build_trigrams_model(cleaned_data):\n",
        "  #creating n grams\n",
        "  bigrams = Phrases(sentences=cleaned_data)\n",
        "  trigrams = Phrases(sentences=bigrams[cleaned_data])\n",
        "  \n",
        "  # creating trigram model\n",
        "  embedding_vector_size = 256\n",
        "  trigrams_model = Word2Vec(\n",
        "      sentences = trigrams[bigrams[cleaned_data]],\n",
        "      size = embedding_vector_size,\n",
        "      min_count=3, window=5, workers=4)\n",
        "  \n",
        "  return trigrams_model\n",
        "\n",
        "\n",
        "###### VECTORIZING DATA\n",
        "def vectorize_data(data, vocab: dict) -> list:\n",
        "    print('Vectorize sentences...')\n",
        "    keys = list(vocab.keys())\n",
        "    filter_unknown = lambda word: vocab.get(word, None) is not None\n",
        "    encode = lambda tweet: list(map(keys.index, filter(filter_unknown, tweet)))\n",
        "    vectorized = list(map(encode, data))\n",
        "    print('Vectorize sentences... (done)')\n",
        "    return vectorized\n",
        "\n",
        "\n",
        "###### FINAL DATA WITH PADDING\n",
        "def vectorised_padded_data(cleaned_data):\n",
        "  \n",
        "  bigrams = Phrases(sentences=cleaned_data)\n",
        "  trigrams = Phrases(sentences=bigrams[cleaned_data])\n",
        "  X_data = trigrams[bigrams[cleaned_data]]\n",
        "  \n",
        "  print('Convert sentences to sentences with ngrams... (done)')\n",
        "  input_length = 150\n",
        "  \n",
        "  trigrams_model = build_trigrams_model(cleaned_data)\n",
        "  X_pad = pad_sequences(\n",
        "      sequences=vectorize_data(X_data, vocab=trigrams_model.wv.vocab),\n",
        "      maxlen=input_length,\n",
        "      padding='post')\n",
        "  return X_pad\n",
        "\n",
        "\n",
        "###### CLUBBING VECTORIZATION AND PADDING FUCTION\n",
        "def suitable_data(tweets):\n",
        "  cleaned_data = get_clean_data(tweets)\n",
        "  return vectorised_padded_data(cleaned_data)\n",
        "  \n",
        "\n"
      ],
      "execution_count": 27,
      "outputs": []
    },
    {
      "cell_type": "code",
      "metadata": {
        "colab": {
          "base_uri": "https://localhost:8080/"
        },
        "id": "UISdZXG6ravk",
        "outputId": "ce8b69b4-6e9f-4c55-afb2-c891df5c6b91"
      },
      "source": [
        "X_pad = suitable_data(df1['clean_text'])"
      ],
      "execution_count": 28,
      "outputs": [
        {
          "output_type": "stream",
          "text": [
            "/usr/local/lib/python3.7/dist-packages/ipykernel_launcher.py:54: VisibleDeprecationWarning: Creating an ndarray from ragged nested sequences (which is a list-or-tuple of lists-or-tuples-or ndarrays with different lengths or shapes) is deprecated. If you meant to do this, you must specify 'dtype=object' when creating the ndarray\n",
            "/usr/local/lib/python3.7/dist-packages/gensim/models/phrases.py:598: UserWarning: For a faster implementation, use the gensim.models.phrases.Phraser class\n",
            "  warnings.warn(\"For a faster implementation, use the gensim.models.phrases.Phraser class\")\n"
          ],
          "name": "stderr"
        },
        {
          "output_type": "stream",
          "text": [
            "Convert sentences to sentences with ngrams... (done)\n",
            "Vectorize sentences...\n",
            "Vectorize sentences... (done)\n"
          ],
          "name": "stdout"
        }
      ]
    },
    {
      "cell_type": "code",
      "metadata": {
        "id": "bMOrxH6Ds44N"
      },
      "source": [
        "my_model = tf.keras.models.load_model('saved_model')"
      ],
      "execution_count": 29,
      "outputs": []
    },
    {
      "cell_type": "code",
      "metadata": {
        "id": "P6L_Wty1tKzK"
      },
      "source": [
        "outputs=my_model.predict(x=X_pad)"
      ],
      "execution_count": 30,
      "outputs": []
    },
    {
      "cell_type": "code",
      "metadata": {
        "colab": {
          "base_uri": "https://localhost:8080/"
        },
        "id": "mjC1NWCTKy1l",
        "outputId": "c07d6d3f-c5cc-4197-c4d9-7fa38ad08e50"
      },
      "source": [
        "outputs"
      ],
      "execution_count": 31,
      "outputs": [
        {
          "output_type": "execute_result",
          "data": {
            "text/plain": [
              "array([[0.9944427 ],\n",
              "       [0.00184023],\n",
              "       [0.9998113 ],\n",
              "       [0.00208467],\n",
              "       [0.9999976 ],\n",
              "       [0.9999583 ],\n",
              "       [0.99993914],\n",
              "       [0.99998945],\n",
              "       [0.99999857],\n",
              "       [0.99999964],\n",
              "       [0.99999326],\n",
              "       [0.9993007 ],\n",
              "       [0.99999774],\n",
              "       [0.99892956],\n",
              "       [0.99993366],\n",
              "       [1.        ],\n",
              "       [0.9999989 ],\n",
              "       [0.9999995 ],\n",
              "       [0.9999999 ],\n",
              "       [0.9998357 ],\n",
              "       [0.9999808 ],\n",
              "       [0.9998783 ],\n",
              "       [0.9999711 ],\n",
              "       [0.9999788 ],\n",
              "       [0.9999948 ],\n",
              "       [0.9999965 ],\n",
              "       [0.9999716 ],\n",
              "       [1.        ],\n",
              "       [0.99998844],\n",
              "       [0.9999974 ],\n",
              "       [0.99930656],\n",
              "       [0.9999995 ],\n",
              "       [0.99996704],\n",
              "       [0.99999785],\n",
              "       [0.99999845],\n",
              "       [0.9968208 ],\n",
              "       [0.9976361 ],\n",
              "       [0.9999038 ],\n",
              "       [1.        ],\n",
              "       [0.99999774],\n",
              "       [0.9998039 ],\n",
              "       [0.9999853 ],\n",
              "       [0.99999803],\n",
              "       [0.99966025],\n",
              "       [0.08130741],\n",
              "       [0.9999988 ],\n",
              "       [0.99995065],\n",
              "       [0.9999932 ],\n",
              "       [0.99999917],\n",
              "       [0.99999714],\n",
              "       [0.98913   ],\n",
              "       [0.99920845],\n",
              "       [0.9999987 ],\n",
              "       [0.99999976],\n",
              "       [1.        ],\n",
              "       [0.77597225],\n",
              "       [0.999998  ],\n",
              "       [0.99999976],\n",
              "       [0.94789445],\n",
              "       [0.9999933 ],\n",
              "       [0.9978766 ],\n",
              "       [0.99997866],\n",
              "       [0.99999976],\n",
              "       [0.99999905],\n",
              "       [0.99994856],\n",
              "       [1.        ],\n",
              "       [0.96673405],\n",
              "       [0.9999883 ],\n",
              "       [0.99991155],\n",
              "       [0.9999719 ],\n",
              "       [0.99985373],\n",
              "       [0.99999046],\n",
              "       [0.9999577 ],\n",
              "       [0.9995937 ],\n",
              "       [0.99999774],\n",
              "       [0.99999547],\n",
              "       [0.9983738 ],\n",
              "       [0.9999943 ],\n",
              "       [0.7401417 ],\n",
              "       [0.43771228],\n",
              "       [0.99925375],\n",
              "       [0.6466347 ],\n",
              "       [0.9998766 ],\n",
              "       [0.9999998 ],\n",
              "       [0.99999696],\n",
              "       [0.99998355],\n",
              "       [0.9999954 ],\n",
              "       [0.99999964],\n",
              "       [0.07170364],\n",
              "       [0.99910057],\n",
              "       [0.9950392 ],\n",
              "       [0.9999072 ],\n",
              "       [0.99999654],\n",
              "       [0.9999901 ],\n",
              "       [0.9999995 ],\n",
              "       [0.9999903 ],\n",
              "       [0.9999985 ],\n",
              "       [0.9999443 ],\n",
              "       [0.99999976],\n",
              "       [0.9999935 ],\n",
              "       [0.9999993 ],\n",
              "       [0.9999901 ],\n",
              "       [0.99999195],\n",
              "       [0.9999958 ],\n",
              "       [0.9810692 ],\n",
              "       [0.99999875],\n",
              "       [0.9999977 ],\n",
              "       [0.9999839 ],\n",
              "       [0.99999964],\n",
              "       [0.9999988 ],\n",
              "       [0.9993812 ],\n",
              "       [0.9999993 ],\n",
              "       [0.99999976],\n",
              "       [0.9999964 ],\n",
              "       [0.99998844],\n",
              "       [0.9999985 ],\n",
              "       [0.8427793 ],\n",
              "       [0.9999987 ],\n",
              "       [0.9999904 ],\n",
              "       [0.9999944 ],\n",
              "       [0.99884903],\n",
              "       [0.9999993 ],\n",
              "       [0.9999651 ],\n",
              "       [0.99999964],\n",
              "       [0.9999023 ],\n",
              "       [0.9999987 ],\n",
              "       [0.9999995 ],\n",
              "       [0.9999964 ],\n",
              "       [0.9996612 ],\n",
              "       [0.99999976],\n",
              "       [0.99999976],\n",
              "       [0.9997607 ],\n",
              "       [0.9948074 ],\n",
              "       [0.9999989 ],\n",
              "       [0.9999971 ],\n",
              "       [1.        ],\n",
              "       [0.999978  ],\n",
              "       [0.9999951 ],\n",
              "       [0.9999823 ],\n",
              "       [0.99999523],\n",
              "       [0.9999992 ],\n",
              "       [0.999816  ],\n",
              "       [0.9996733 ],\n",
              "       [0.99999154],\n",
              "       [0.29723972],\n",
              "       [0.9999012 ],\n",
              "       [0.99996185],\n",
              "       [0.9996721 ],\n",
              "       [0.9999899 ],\n",
              "       [0.99999964],\n",
              "       [1.        ],\n",
              "       [1.        ],\n",
              "       [1.        ],\n",
              "       [0.9999993 ],\n",
              "       [0.99999875],\n",
              "       [0.9999614 ],\n",
              "       [0.9999996 ]], dtype=float32)"
            ]
          },
          "metadata": {
            "tags": []
          },
          "execution_count": 31
        }
      ]
    }
  ]
}