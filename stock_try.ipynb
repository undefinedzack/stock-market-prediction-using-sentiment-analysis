{
  "nbformat": 4,
  "nbformat_minor": 0,
  "metadata": {
    "colab": {
      "name": "stock_try.ipynb",
      "provenance": [],
      "collapsed_sections": [],
      "include_colab_link": true
    },
    "kernelspec": {
      "name": "python3",
      "display_name": "Python 3"
    }
  },
  "cells": [
    {
      "cell_type": "markdown",
      "metadata": {
        "id": "view-in-github",
        "colab_type": "text"
      },
      "source": [
        "<a href=\"https://colab.research.google.com/github/undefinedzack/stock-market-prediction-using-sentiment-analysis/blob/master/stock_try.ipynb\" target=\"_parent\"><img src=\"https://colab.research.google.com/assets/colab-badge.svg\" alt=\"Open In Colab\"/></a>"
      ]
    },
    {
      "cell_type": "code",
      "metadata": {
        "id": "qTVO4H2IBMJj",
        "colab": {
          "base_uri": "https://localhost:8080/",
          "height": 934
        },
        "outputId": "6bd491ab-bd95-4c94-9a82-5d9ee4ef6e86"
      },
      "source": [
        "!pip install yfinance\n",
        "\n",
        "import yfinance\n",
        "\n",
        "dataframe = yfinance.download(\"DIS\", \n",
        "                              \"2010-01-01\", \n",
        "                              \"2020-09-01\", \n",
        "                              auto_adjust=True)\n",
        "\n",
        "dataframe = dataframe[[\"Close\"]]\n",
        "\n",
        "dataframe = dataframe.dropna()\n",
        "\n",
        "dataframe"
      ],
      "execution_count": null,
      "outputs": [
        {
          "output_type": "stream",
          "text": [
            "Collecting yfinance\n",
            "  Downloading https://files.pythonhosted.org/packages/7a/e8/b9d7104d3a4bf39924799067592d9e59119fcfc900a425a12e80a3123ec8/yfinance-0.1.55.tar.gz\n",
            "Requirement already satisfied: pandas>=0.24 in /usr/local/lib/python3.7/dist-packages (from yfinance) (1.1.5)\n",
            "Requirement already satisfied: numpy>=1.15 in /usr/local/lib/python3.7/dist-packages (from yfinance) (1.19.5)\n",
            "Requirement already satisfied: requests>=2.20 in /usr/local/lib/python3.7/dist-packages (from yfinance) (2.23.0)\n",
            "Requirement already satisfied: multitasking>=0.0.7 in /usr/local/lib/python3.7/dist-packages (from yfinance) (0.0.9)\n",
            "Collecting lxml>=4.5.1\n",
            "\u001b[?25l  Downloading https://files.pythonhosted.org/packages/d2/88/b25778f17e5320c1c58f8c5060fb5b037288e162bd7554c30799e9ea90db/lxml-4.6.2-cp37-cp37m-manylinux1_x86_64.whl (5.5MB)\n",
            "\u001b[K     |████████████████████████████████| 5.5MB 6.4MB/s \n",
            "\u001b[?25hRequirement already satisfied: python-dateutil>=2.7.3 in /usr/local/lib/python3.7/dist-packages (from pandas>=0.24->yfinance) (2.8.1)\n",
            "Requirement already satisfied: pytz>=2017.2 in /usr/local/lib/python3.7/dist-packages (from pandas>=0.24->yfinance) (2018.9)\n",
            "Requirement already satisfied: idna<3,>=2.5 in /usr/local/lib/python3.7/dist-packages (from requests>=2.20->yfinance) (2.10)\n",
            "Requirement already satisfied: chardet<4,>=3.0.2 in /usr/local/lib/python3.7/dist-packages (from requests>=2.20->yfinance) (3.0.4)\n",
            "Requirement already satisfied: certifi>=2017.4.17 in /usr/local/lib/python3.7/dist-packages (from requests>=2.20->yfinance) (2020.12.5)\n",
            "Requirement already satisfied: urllib3!=1.25.0,!=1.25.1,<1.26,>=1.21.1 in /usr/local/lib/python3.7/dist-packages (from requests>=2.20->yfinance) (1.24.3)\n",
            "Requirement already satisfied: six>=1.5 in /usr/local/lib/python3.7/dist-packages (from python-dateutil>=2.7.3->pandas>=0.24->yfinance) (1.15.0)\n",
            "Building wheels for collected packages: yfinance\n",
            "  Building wheel for yfinance (setup.py) ... \u001b[?25l\u001b[?25hdone\n",
            "  Created wheel for yfinance: filename=yfinance-0.1.55-py2.py3-none-any.whl size=22616 sha256=7914e16c6709265fcbb5f06148ec8f8db388e324057202660ae664c7629f1758\n",
            "  Stored in directory: /root/.cache/pip/wheels/04/98/cc/2702a4242d60bdc14f48b4557c427ded1fe92aedf257d4565c\n",
            "Successfully built yfinance\n",
            "Installing collected packages: lxml, yfinance\n",
            "  Found existing installation: lxml 4.2.6\n",
            "    Uninstalling lxml-4.2.6:\n",
            "      Successfully uninstalled lxml-4.2.6\n",
            "Successfully installed lxml-4.6.2 yfinance-0.1.55\n",
            "[*********************100%***********************]  1 of 1 completed\n"
          ],
          "name": "stdout"
        },
        {
          "output_type": "execute_result",
          "data": {
            "text/html": [
              "<div>\n",
              "<style scoped>\n",
              "    .dataframe tbody tr th:only-of-type {\n",
              "        vertical-align: middle;\n",
              "    }\n",
              "\n",
              "    .dataframe tbody tr th {\n",
              "        vertical-align: top;\n",
              "    }\n",
              "\n",
              "    .dataframe thead th {\n",
              "        text-align: right;\n",
              "    }\n",
              "</style>\n",
              "<table border=\"1\" class=\"dataframe\">\n",
              "  <thead>\n",
              "    <tr style=\"text-align: right;\">\n",
              "      <th></th>\n",
              "      <th>Close</th>\n",
              "    </tr>\n",
              "    <tr>\n",
              "      <th>Date</th>\n",
              "      <th></th>\n",
              "    </tr>\n",
              "  </thead>\n",
              "  <tbody>\n",
              "    <tr>\n",
              "      <th>2010-01-04</th>\n",
              "      <td>27.933924</td>\n",
              "    </tr>\n",
              "    <tr>\n",
              "      <th>2010-01-05</th>\n",
              "      <td>27.864237</td>\n",
              "    </tr>\n",
              "    <tr>\n",
              "      <th>2010-01-06</th>\n",
              "      <td>27.716166</td>\n",
              "    </tr>\n",
              "    <tr>\n",
              "      <th>2010-01-07</th>\n",
              "      <td>27.724878</td>\n",
              "    </tr>\n",
              "    <tr>\n",
              "      <th>2010-01-08</th>\n",
              "      <td>27.768419</td>\n",
              "    </tr>\n",
              "    <tr>\n",
              "      <th>...</th>\n",
              "      <td>...</td>\n",
              "    </tr>\n",
              "    <tr>\n",
              "      <th>2020-08-25</th>\n",
              "      <td>129.789993</td>\n",
              "    </tr>\n",
              "    <tr>\n",
              "      <th>2020-08-26</th>\n",
              "      <td>132.179993</td>\n",
              "    </tr>\n",
              "    <tr>\n",
              "      <th>2020-08-27</th>\n",
              "      <td>133.729996</td>\n",
              "    </tr>\n",
              "    <tr>\n",
              "      <th>2020-08-28</th>\n",
              "      <td>135.539993</td>\n",
              "    </tr>\n",
              "    <tr>\n",
              "      <th>2020-08-31</th>\n",
              "      <td>131.869995</td>\n",
              "    </tr>\n",
              "  </tbody>\n",
              "</table>\n",
              "<p>2684 rows × 1 columns</p>\n",
              "</div>"
            ],
            "text/plain": [
              "                 Close\n",
              "Date                  \n",
              "2010-01-04   27.933924\n",
              "2010-01-05   27.864237\n",
              "2010-01-06   27.716166\n",
              "2010-01-07   27.724878\n",
              "2010-01-08   27.768419\n",
              "...                ...\n",
              "2020-08-25  129.789993\n",
              "2020-08-26  132.179993\n",
              "2020-08-27  133.729996\n",
              "2020-08-28  135.539993\n",
              "2020-08-31  131.869995\n",
              "\n",
              "[2684 rows x 1 columns]"
            ]
          },
          "metadata": {
            "tags": []
          },
          "execution_count": 1
        }
      ]
    },
    {
      "cell_type": "code",
      "metadata": {
        "id": "Fz4ZeAWFEvrW",
        "colab": {
          "base_uri": "https://localhost:8080/",
          "height": 351
        },
        "outputId": "fd103337-52fa-4ff5-80f9-ee9f3e3e720d"
      },
      "source": [
        "import matplotlib.pyplot as pyplot\n",
        "\n",
        "dataframe.Close.plot(figsize = (8, 5), \n",
        "                     color   = \"b\")\n",
        "\n",
        "pyplot.ylabel(\"Disney Stock Value\")\n",
        "\n",
        "pyplot.title(\"Disney Stock - 2010-2020\")"
      ],
      "execution_count": null,
      "outputs": [
        {
          "output_type": "execute_result",
          "data": {
            "text/plain": [
              "Text(0.5, 1.0, 'Disney Stock - 2010-2020')"
            ]
          },
          "metadata": {
            "tags": []
          },
          "execution_count": 2
        },
        {
          "output_type": "display_data",
          "data": {
            "image/png": "[encoded data removed]",
            "text/plain": [
              "<Figure size 576x360 with 1 Axes>"
            ]
          },
          "metadata": {
            "tags": [],
            "needs_background": "light"
          }
        }
      ]
    },
    {
      "cell_type": "code",
      "metadata": {
        "id": "s0VOinm8IpGY",
        "colab": {
          "base_uri": "https://localhost:8080/"
        },
        "outputId": "5d837a6b-62e1-41b9-a748-acb3531c4b63"
      },
      "source": [
        "dataframe[\"five_days_moving_average\"]   = dataframe[\"Close\"].rolling(window=5).mean()\n",
        "# dataframe[\"five_days_moving_average\"] \n",
        "\n",
        "dataframe[\"twenty_days_moving_average\"] = dataframe[\"Close\"].rolling(window=20).mean()\n",
        "\n",
        "dataframe = dataframe.dropna()\n",
        "\n",
        "X = dataframe[[\"five_days_moving_average\", \n",
        "               \"twenty_days_moving_average\"]]\n",
        "\n",
        "dataframe[\"value_next_day\"]             = dataframe[\"Close\"].shift(-1)\n",
        "\n",
        "dataframe = dataframe.dropna()\n",
        "\n",
        "y = dataframe[\"value_next_day\"]\n",
        "\n",
        "y"
      ],
      "execution_count": null,
      "outputs": [
        {
          "output_type": "execute_result",
          "data": {
            "text/plain": [
              "Date\n",
              "2010-03-01     27.768419\n",
              "2010-03-02     27.559378\n",
              "2010-03-03     28.369436\n",
              "2010-03-04     28.935610\n",
              "2010-03-05     28.909479\n",
              "                 ...    \n",
              "2020-08-21    130.690002\n",
              "2020-08-24    129.789993\n",
              "2020-08-25    132.179993\n",
              "2020-08-26    133.729996\n",
              "2020-08-27    135.539993\n",
              "Name: value_next_day, Length: 2644, dtype: float64"
            ]
          },
          "metadata": {
            "tags": []
          },
          "execution_count": 5
        }
      ]
    },
    {
      "cell_type": "code",
      "metadata": {
        "id": "fngFF4f8Vt4L"
      },
      "source": [
        "split_index = 0.8\n",
        "\n",
        "split_index = split_index * len(dataframe)\n",
        "\n",
        "split_index = int(split_index) \n",
        "\n",
        "X_train = X[:split_index]\n",
        "y_train = y[:split_index]\n",
        "\n",
        "X_test  = X[split_index:]\n",
        "y_test  = y[split_index:] "
      ],
      "execution_count": null,
      "outputs": []
    },
    {
      "cell_type": "code",
      "metadata": {
        "id": "gyQvyMIebHte",
        "colab": {
          "base_uri": "https://localhost:8080/"
        },
        "outputId": "0dd21e94-693a-42d0-b553-c6d2b95154f2"
      },
      "source": [
        "from sklearn.linear_model import LinearRegression\n",
        "\n",
        "model = LinearRegression()\n",
        "\n",
        "model = model.fit(X_train, \n",
        "                  y_train)\n",
        "\n",
        "five_day_moving_average   = model.coef_[0]\n",
        "\n",
        "twenty_day_moving_average = model.coef_[1]\n",
        "\n",
        "print(five_day_moving_average)\n",
        "print(twenty_day_moving_average)\n",
        "\n",
        "constant = model.intercept_\n",
        "\n",
        "print(constant)"
      ],
      "execution_count": null,
      "outputs": [
        {
          "output_type": "stream",
          "text": [
            "1.1520923418091409\n",
            "-0.15325658324576552\n",
            "0.15406263029224476\n"
          ],
          "name": "stdout"
        }
      ]
    },
    {
      "cell_type": "code",
      "metadata": {
        "id": "jstBdkCgk6Vd",
        "colab": {
          "base_uri": "https://localhost:8080/",
          "height": 295
        },
        "outputId": "9b848eb7-e70c-4d4e-f88f-ca1e1aebf068"
      },
      "source": [
        "test_output = model.predict(X_test)\n",
        "\n",
        "import pandas\n",
        "\n",
        "y_test = y[(split_index - 1):]\n",
        "\n",
        "test_output = pandas.DataFrame(test_output,\n",
        "                              index = y_test.index,\n",
        "                              columns = [\"value\"])\n",
        "\n",
        "test_output.plot()\n",
        "\n",
        "y_test.plot()\n",
        "\n",
        "pyplot.legend([\"model output\",\n",
        "               \"actual value\"])\n",
        "\n",
        "pyplot.ylabel(\"Disney Stock Value\")"
      ],
      "execution_count": null,
      "outputs": [
        {
          "output_type": "execute_result",
          "data": {
            "text/plain": [
              "Text(0, 0.5, 'Disney Stock Value')"
            ]
          },
          "metadata": {
            "tags": []
          },
          "execution_count": 9
        },
        {
          "output_type": "display_data",
          "data": {
            "image/png": "[encoded data removed]",
            "text/plain": [
              "<Figure size 432x288 with 1 Axes>"
            ]
          },
          "metadata": {
            "tags": [],
            "needs_background": "light"
          }
        }
      ]
    },
    {
      "cell_type": "code",
      "metadata": {
        "id": "Oqh4iPD906VC",
        "colab": {
          "base_uri": "https://localhost:8080/"
        },
        "outputId": "6816d9fb-e953-460d-b8a3-e19d128db8b8"
      },
      "source": [
        "score = model.score(X[split_index:],\n",
        "                    y[(split_index - 1):])\n",
        "\n",
        "score = score * 100\n",
        "\n",
        "print(score)"
      ],
      "execution_count": null,
      "outputs": [
        {
          "output_type": "stream",
          "text": [
            "97.40291565249456\n"
          ],
          "name": "stdout"
        }
      ]
    },
    {
      "cell_type": "code",
      "metadata": {
        "id": "wX8rsu7Z2A9_",
        "colab": {
          "base_uri": "https://localhost:8080/",
          "height": 343
        },
        "outputId": "d86cfef7-68f5-4c92-ca2b-ef5d77c48dff"
      },
      "source": [
        "stock = pandas.DataFrame()\n",
        "\n",
        "stock[\"value\"] = dataframe[split_index:][\"Close\"]\n",
        "\n",
        "stock[\"predicted_tomorrow\"] = test_output\n",
        "\n",
        "stock[\"actual_tomorrow\"] = y_test\n",
        "\n",
        "stock[\"returns\"] = stock[\"value\"].pct_change().shift(-1)\n",
        "\n",
        "import numpy\n",
        "\n",
        "stock[\"strategy\"] = numpy.where(stock.predicted_tomorrow.shift(1) < stock.predicted_tomorrow,\n",
        "                                1,\n",
        "                                0)\n",
        "\n",
        "stock[\"strategy_returns\"] = stock.strategy * stock[\"returns\"]\n",
        "\n",
        "cumulative_product = (stock[\"strategy_returns\"] + 1).cumprod()\n",
        "\n",
        "cumulative_product.plot(figsize = (8, 5))\n",
        "\n",
        "pyplot.ylabel(\"Cumulative Returns\")"
      ],
      "execution_count": null,
      "outputs": [
        {
          "output_type": "execute_result",
          "data": {
            "text/plain": [
              "Text(0, 0.5, 'Cumulative Returns')"
            ]
          },
          "metadata": {
            "tags": []
          },
          "execution_count": 11
        },
        {
          "output_type": "display_data",
          "data": {
            "image/png": "[encoded data removed]",
            "text/plain": [
              "<Figure size 576x360 with 1 Axes>"
            ]
          },
          "metadata": {
            "tags": [],
            "needs_background": "light"
          }
        }
      ]
    },
    {
      "cell_type": "code",
      "metadata": {
        "id": "4r_l0psP_lgx",
        "colab": {
          "base_uri": "https://localhost:8080/"
        },
        "outputId": "0625c764-bb06-4e4e-a19b-21534717d642"
      },
      "source": [
        "dataset = yfinance.download(\"DIS\",\n",
        "                            \"2010-01-01\",\n",
        "                            \"2020-09-01\",\n",
        "                            auto_adjust = True)\n",
        "\n",
        "dataset[\"five_day_average\"]   = dataset[\"Close\"].rolling(window = 5).mean()\n",
        "\n",
        "dataset[\"twenty_day_average\"] = dataset[\"Close\"].rolling(window = 20).mean()\n",
        "\n",
        "dataset = dataset.dropna()\n",
        "\n",
        "dataset[\"predicted_stock_value\"] = model.predict(dataset[[\"five_day_average\",\n",
        "                                                       \"twenty_day_average\"]])\n",
        "\n",
        "dataset[\"strategy\"] = numpy.where(dataset.predicted_stock_value.shift(1) < dataset.predicted_stock_value,\n",
        "                                 \"Buy\",\n",
        "                                 \"Hold/Sell\")\n",
        "\n",
        "print(dataset)"
      ],
      "execution_count": null,
      "outputs": [
        {
          "output_type": "stream",
          "text": [
            "\r[*********************100%***********************]  1 of 1 completed\n",
            "                  Open        High  ...  predicted_stock_value   strategy\n",
            "Date                                ...                                  \n",
            "2010-02-01   25.782479   25.930555  ...              25.633992  Hold/Sell\n",
            "2010-02-02   25.721504   26.139598  ...              25.712165        Buy\n",
            "2010-02-03   26.061204   26.888683  ...              26.007442        Buy\n",
            "2010-02-04   26.374781   26.557697  ...              26.086017        Buy\n",
            "2010-02-05   25.808608   25.991525  ...              26.099295        Buy\n",
            "...                ...         ...  ...                    ...        ...\n",
            "2020-08-25  130.830002  131.089996  ...             129.152127        Buy\n",
            "2020-08-26  130.000000  132.600006  ...             130.041299        Buy\n",
            "2020-08-27  133.000000  136.360001  ...             131.195479        Buy\n",
            "2020-08-28  134.500000  136.800003  ...             132.919338        Buy\n",
            "2020-08-31  135.250000  135.539993  ...             133.072303        Buy\n",
            "\n",
            "[2665 rows x 9 columns]\n"
          ],
          "name": "stdout"
        },
        {
          "output_type": "stream",
          "text": [
            "/usr/local/lib/python3.7/dist-packages/ipykernel_launcher.py:13: SettingWithCopyWarning: \n",
            "A value is trying to be set on a copy of a slice from a DataFrame.\n",
            "Try using .loc[row_indexer,col_indexer] = value instead\n",
            "\n",
            "See the caveats in the documentation: https://pandas.pydata.org/pandas-docs/stable/user_guide/indexing.html#returning-a-view-versus-a-copy\n",
            "  del sys.path[0]\n",
            "/usr/local/lib/python3.7/dist-packages/ipykernel_launcher.py:17: SettingWithCopyWarning: \n",
            "A value is trying to be set on a copy of a slice from a DataFrame.\n",
            "Try using .loc[row_indexer,col_indexer] = value instead\n",
            "\n",
            "See the caveats in the documentation: https://pandas.pydata.org/pandas-docs/stable/user_guide/indexing.html#returning-a-view-versus-a-copy\n"
          ],
          "name": "stderr"
        }
      ]
    }
  ]
}