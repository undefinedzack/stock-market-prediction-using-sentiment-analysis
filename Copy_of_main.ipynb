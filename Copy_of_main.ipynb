{
  "nbformat": 4,
  "nbformat_minor": 0,
  "metadata": {
    "kernelspec": {
      "display_name": "Python 3",
      "language": "python",
      "name": "python3"
    },
    "language_info": {
      "codemirror_mode": {
        "name": "ipython",
        "version": 2
      },
      "file_extension": ".py",
      "mimetype": "text/x-python",
      "name": "python",
      "nbconvert_exporter": "python",
      "pygments_lexer": "ipython2",
      "version": "2.7.6"
    },
    "colab": {
      "name": "Copy of main.ipynb",
      "provenance": [],
      "toc_visible": true,
      "include_colab_link": true
    }
  },
  "cells": [
    {
      "cell_type": "markdown",
      "metadata": {
        "id": "view-in-github",
        "colab_type": "text"
      },
      "source": [
        "<a href=\"https://colab.research.google.com/github/undefinedzack/stock-market-prediction-using-sentiment-analysis/blob/master/Copy_of_main.ipynb\" target=\"_parent\"><img src=\"https://colab.research.google.com/assets/colab-badge.svg\" alt=\"Open In Colab\"/></a>"
      ]
    },
    {
      "cell_type": "markdown",
      "metadata": {
        "id": "rNgYS9JgL2jj"
      },
      "source": [
        "## Data Manipulation"
      ]
    },
    {
      "cell_type": "code",
      "metadata": {
        "colab": {
          "resources": {
            "http://localhost:8080/nbextensions/google.colab/files.js": {
              "data": "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",
              "ok": true,
              "headers": [
                [
                  "content-type",
                  "application/javascript"
                ]
              ],
              "status": 200,
              "status_text": ""
            }
          },
          "base_uri": "https://localhost:8080/",
          "height": 73
        },
        "id": "3ZWZ0OEgKf2n",
        "outputId": "2e304c72-de36-48b0-a2c8-27aded40bdc6"
      },
      "source": [
        "from google.colab import files \r\n",
        "uploaded = files.upload()"
      ],
      "execution_count": 19,
      "outputs": [
        {
          "output_type": "display_data",
          "data": {
            "text/html": [
              "\n",
              "     <input type=\"file\" id=\"files-e9136b2c-33a9-4227-8f38-ce0f4647ed47\" name=\"files[]\" multiple disabled\n",
              "        style=\"border:none\" />\n",
              "     <output id=\"result-e9136b2c-33a9-4227-8f38-ce0f4647ed47\">\n",
              "      Upload widget is only available when the cell has been executed in the\n",
              "      current browser session. Please rerun this cell to enable.\n",
              "      </output>\n",
              "      <script src=\"/nbextensions/google.colab/files.js\"></script> "
            ],
            "text/plain": [
              "<IPython.core.display.HTML object>"
            ]
          },
          "metadata": {
            "tags": []
          }
        },
        {
          "output_type": "stream",
          "text": [
            "Saving tweet_sentiment.csv to tweet_sentiment.csv\n"
          ],
          "name": "stdout"
        }
      ]
    },
    {
      "cell_type": "code",
      "metadata": {
        "id": "OpmjkHEvziLP"
      },
      "source": [
        "import pandas as pd \n",
        "import io\n",
        "import random"
      ],
      "execution_count": 31,
      "outputs": []
    },
    {
      "cell_type": "code",
      "metadata": {
        "id": "HUFmosAFLMs3"
      },
      "source": [
        "df = pd.read_csv(io.BytesIO(uploaded['stockerbot-export1.csv'])) \r\n",
        "senti = pd.read_csv(io.BytesIO(uploaded['tweet_sentiment.csv'])) "
      ],
      "execution_count": 2,
      "outputs": []
    },
    {
      "cell_type": "code",
      "metadata": {
        "colab": {
          "base_uri": "https://localhost:8080/",
          "height": 884
        },
        "id": "C0a4ntY_Lvte",
        "outputId": "5fca736e-4f88-4aa0-fadb-be948ebaf757"
      },
      "source": [
        "df.head(10)"
      ],
      "execution_count": 18,
      "outputs": [
        {
          "output_type": "execute_result",
          "data": {
            "text/html": [
              "<div>\n",
              "<style scoped>\n",
              "    .dataframe tbody tr th:only-of-type {\n",
              "        vertical-align: middle;\n",
              "    }\n",
              "\n",
              "    .dataframe tbody tr th {\n",
              "        vertical-align: top;\n",
              "    }\n",
              "\n",
              "    .dataframe thead th {\n",
              "        text-align: right;\n",
              "    }\n",
              "</style>\n",
              "<table border=\"1\" class=\"dataframe\">\n",
              "  <thead>\n",
              "    <tr style=\"text-align: right;\">\n",
              "      <th></th>\n",
              "      <th>id</th>\n",
              "      <th>text</th>\n",
              "      <th>timestamp</th>\n",
              "      <th>source</th>\n",
              "      <th>symbols</th>\n",
              "      <th>company_names</th>\n",
              "      <th>url</th>\n",
              "      <th>verified</th>\n",
              "      <th>cleaned_tweets</th>\n",
              "      <th>tokenized_text</th>\n",
              "      <th>stemmed_tokens</th>\n",
              "    </tr>\n",
              "  </thead>\n",
              "  <tbody>\n",
              "    <tr>\n",
              "      <th>0</th>\n",
              "      <td>1.0197E+18</td>\n",
              "      <td>VIDEO: “I was in my office. I was minding my o...</td>\n",
              "      <td>Wed Jul 18 21:33:26 +0000 2018</td>\n",
              "      <td>GoldmanSachs</td>\n",
              "      <td>GS</td>\n",
              "      <td>The Goldman Sachs</td>\n",
              "      <td>https://twitter.com/i/web/status/1019696670777...</td>\n",
              "      <td>TRUE</td>\n",
              "      <td>video i was in my office i was minding my own ...</td>\n",
              "      <td>[video, was, in, my, office, was, minding, my,...</td>\n",
              "      <td>[video, wa, in, my, offic, wa, mind, my, own, ...</td>\n",
              "    </tr>\n",
              "    <tr>\n",
              "      <th>1</th>\n",
              "      <td>1.01971E+18</td>\n",
              "      <td>The price of lumber $LB_F is down 22% since hi...</td>\n",
              "      <td>Wed Jul 18 22:22:47 +0000 2018</td>\n",
              "      <td>StockTwits</td>\n",
              "      <td>M</td>\n",
              "      <td>Macy's</td>\n",
              "      <td>https://twitter.com/i/web/status/1019709091038...</td>\n",
              "      <td>TRUE</td>\n",
              "      <td>the price of lumber lb f is down since hitting...</td>\n",
              "      <td>[the, price, of, lumber, lb, is, down, since, ...</td>\n",
              "      <td>[the, price, of, lumber, lb, is, down, sinc, h...</td>\n",
              "    </tr>\n",
              "    <tr>\n",
              "      <th>2</th>\n",
              "      <td>1.01971E+18</td>\n",
              "      <td>Who says the American Dream is dead? https://t...</td>\n",
              "      <td>Wed Jul 18 22:32:01 +0000 2018</td>\n",
              "      <td>TheStreet</td>\n",
              "      <td>AIG</td>\n",
              "      <td>American</td>\n",
              "      <td>https://buff.ly/2L3kmc4</td>\n",
              "      <td>TRUE</td>\n",
              "      <td>who says the american dream is dead</td>\n",
              "      <td>[who, says, the, american, dream, is, dead]</td>\n",
              "      <td>[who, sai, the, american, dream, is, dead]</td>\n",
              "    </tr>\n",
              "    <tr>\n",
              "      <th>3</th>\n",
              "      <td>1.01972E+18</td>\n",
              "      <td>Barry Silbert is extremely optimistic on bitco...</td>\n",
              "      <td>Wed Jul 18 22:52:52 +0000 2018</td>\n",
              "      <td>MarketWatch</td>\n",
              "      <td>BTC</td>\n",
              "      <td>Bitcoin</td>\n",
              "      <td>https://twitter.com/i/web/status/1019716662587...</td>\n",
              "      <td>TRUE</td>\n",
              "      <td>barry silbert is extremely optimistic on bitco...</td>\n",
              "      <td>[barry, silbert, is, extremely, optimistic, on...</td>\n",
              "      <td>[barri, silbert, is, extrem, optimist, on, bit...</td>\n",
              "    </tr>\n",
              "    <tr>\n",
              "      <th>4</th>\n",
              "      <td>1.01972E+18</td>\n",
              "      <td>How satellites avoid attacks and space junk wh...</td>\n",
              "      <td>Wed Jul 18 23:00:01 +0000 2018</td>\n",
              "      <td>Forbes</td>\n",
              "      <td>ORCL</td>\n",
              "      <td>Oracle</td>\n",
              "      <td>http://on.forbes.com/6013DqDDU</td>\n",
              "      <td>TRUE</td>\n",
              "      <td>how satellites avoid attacks and space junk wh...</td>\n",
              "      <td>[how, satellites, avoid, attacks, and, space, ...</td>\n",
              "      <td>[how, satellit, avoid, attack, and, space, jun...</td>\n",
              "    </tr>\n",
              "    <tr>\n",
              "      <th>5</th>\n",
              "      <td>1.01972E+18</td>\n",
              "      <td>.@RealMoney's David Butler's favorite FANG sto...</td>\n",
              "      <td>Wed Jul 18 23:04:00 +0000 2018</td>\n",
              "      <td>jimcramer</td>\n",
              "      <td>FB-GOOGL-GOOG</td>\n",
              "      <td>Facebook*Alphabet*Alphabet</td>\n",
              "      <td>http://bit.ly/2NrYxje</td>\n",
              "      <td>TRUE</td>\n",
              "      <td>s david butler s favorite fang stock isn t rea...</td>\n",
              "      <td>[david, butler, favorite, fang, stock, isn, re...</td>\n",
              "      <td>[david, butler, favorit, fang, stock, isn, rea...</td>\n",
              "    </tr>\n",
              "    <tr>\n",
              "      <th>6</th>\n",
              "      <td>1.01972E+18</td>\n",
              "      <td>Don’t miss my convo with one of my favorite th...</td>\n",
              "      <td>Wed Jul 18 23:06:58 +0000 2018</td>\n",
              "      <td>ianbremmer</td>\n",
              "      <td>HRS</td>\n",
              "      <td>Harris</td>\n",
              "      <td>https://twitter.com/samharrisorg/status/101971...</td>\n",
              "      <td>TRUE</td>\n",
              "      <td>don t miss my convo with one of my favorite th...</td>\n",
              "      <td>[don, miss, my, convo, with, one, of, my, favo...</td>\n",
              "      <td>[don, miss, my, convo, with, on, of, my, favor...</td>\n",
              "    </tr>\n",
              "    <tr>\n",
              "      <th>7</th>\n",
              "      <td>1.01972E+18</td>\n",
              "      <td>U.S. intelligence documents on Nelson Mandela ...</td>\n",
              "      <td>Wed Jul 18 23:08:45 +0000 2018</td>\n",
              "      <td>Reuters</td>\n",
              "      <td>INTC-USB</td>\n",
              "      <td>Intel*U.S.</td>\n",
              "      <td>https://reut.rs/2O0ypNf</td>\n",
              "      <td>TRUE</td>\n",
              "      <td>u s intelligence documents on nelson mandela m...</td>\n",
              "      <td>[intelligence, documents, on, nelson, mandela,...</td>\n",
              "      <td>[intellig, document, on, nelson, mandela, made...</td>\n",
              "    </tr>\n",
              "    <tr>\n",
              "      <th>8</th>\n",
              "      <td>1.01972E+18</td>\n",
              "      <td>Senate wants emergency alerts to go out throug...</td>\n",
              "      <td>Wed Jul 18 23:09:00 +0000 2018</td>\n",
              "      <td>TechCrunch</td>\n",
              "      <td>NFLX</td>\n",
              "      <td>Netflix</td>\n",
              "      <td>https://tcrn.ch/2L8DsgT</td>\n",
              "      <td>TRUE</td>\n",
              "      <td>senate wants emergency alerts to go out throug...</td>\n",
              "      <td>[senate, wants, emergency, alerts, to, go, out...</td>\n",
              "      <td>[senat, want, emerg, alert, to, go, out, throu...</td>\n",
              "    </tr>\n",
              "    <tr>\n",
              "      <th>9</th>\n",
              "      <td>1.01972E+18</td>\n",
              "      <td>Hedge fund manager Marc Larsy says bitcoin $40...</td>\n",
              "      <td>Wed Jul 18 23:10:41 +0000 2018</td>\n",
              "      <td>MarketWatch</td>\n",
              "      <td>BTC</td>\n",
              "      <td>Bitcoin</td>\n",
              "      <td>https://on.mktw.net/2Ntr7k9</td>\n",
              "      <td>TRUE</td>\n",
              "      <td>hedge fund manager marc larsy says bitcoin k i...</td>\n",
              "      <td>[hedge, fund, manager, marc, larsy, says, bitc...</td>\n",
              "      <td>[hedg, fund, manag, marc, larsi, sai, bitcoin,...</td>\n",
              "    </tr>\n",
              "  </tbody>\n",
              "</table>\n",
              "</div>"
            ],
            "text/plain": [
              "            id  ...                                     stemmed_tokens\n",
              "0   1.0197E+18  ...  [video, wa, in, my, offic, wa, mind, my, own, ...\n",
              "1  1.01971E+18  ...  [the, price, of, lumber, lb, is, down, sinc, h...\n",
              "2  1.01971E+18  ...         [who, sai, the, american, dream, is, dead]\n",
              "3  1.01972E+18  ...  [barri, silbert, is, extrem, optimist, on, bit...\n",
              "4  1.01972E+18  ...  [how, satellit, avoid, attack, and, space, jun...\n",
              "5  1.01972E+18  ...  [david, butler, favorit, fang, stock, isn, rea...\n",
              "6  1.01972E+18  ...  [don, miss, my, convo, with, on, of, my, favor...\n",
              "7  1.01972E+18  ...  [intellig, document, on, nelson, mandela, made...\n",
              "8  1.01972E+18  ...  [senat, want, emerg, alert, to, go, out, throu...\n",
              "9  1.01972E+18  ...  [hedg, fund, manag, marc, larsi, sai, bitcoin,...\n",
              "\n",
              "[10 rows x 11 columns]"
            ]
          },
          "metadata": {
            "tags": []
          },
          "execution_count": 18
        }
      ]
    },
    {
      "cell_type": "code",
      "metadata": {
        "id": "KOB2eAXueCRS",
        "colab": {
          "base_uri": "https://localhost:8080/",
          "height": 36
        },
        "outputId": "803a92be-8c6f-4cb5-d4e3-4c2c7390baca"
      },
      "source": [
        "df['text'][1]"
      ],
      "execution_count": 4,
      "outputs": [
        {
          "output_type": "execute_result",
          "data": {
            "application/vnd.google.colaboratory.intrinsic+json": {
              "type": "string"
            },
            "text/plain": [
              "\"The price of lumber $LB_F is down 22% since hitting its YTD highs. The Macy's $M turnaround is still happening.… https://t.co/XnKsV4De39\""
            ]
          },
          "metadata": {
            "tags": []
          },
          "execution_count": 4
        }
      ]
    },
    {
      "cell_type": "code",
      "metadata": {
        "id": "5rgXSUx9Z240",
        "colab": {
          "base_uri": "https://localhost:8080/"
        },
        "outputId": "47cb451c-2e60-4603-f7fe-c978de3b3273"
      },
      "source": [
        "len(df['text'])"
      ],
      "execution_count": 5,
      "outputs": [
        {
          "output_type": "execute_result",
          "data": {
            "text/plain": [
              "28440"
            ]
          },
          "metadata": {
            "tags": []
          },
          "execution_count": 5
        }
      ]
    },
    {
      "cell_type": "code",
      "metadata": {
        "id": "XOaRiM1zb5Xj"
      },
      "source": [
        "##regular expressions for ids and links from text section\r\n",
        "pat1= r'@[A-Za-z0-9]+'\r\n",
        "pat2= r'https?://[A-Za-z0-9./]+'\r\n",
        "#pat1|pat2\r\n",
        "combined_pat=r'|'.join((pat1,pat2))\r\n",
        "#no word should start with special symbol\r\n",
        "pat3= r'[^a-zA-Z]'\r\n",
        "combined_pat2=r'|'.join((combined_pat,pat3))"
      ],
      "execution_count": 6,
      "outputs": []
    },
    {
      "cell_type": "code",
      "metadata": {
        "id": "pjCx-xTedn6p",
        "colab": {
          "base_uri": "https://localhost:8080/",
          "height": 36
        },
        "outputId": "a0684ddf-5a72-46ef-bf9e-44f2305c5342"
      },
      "source": [
        "#demonstration\r\n",
        "import re\r\n",
        "re.sub(combined_pat2,' ','The price of lumber $LB_F is down 22% since hitting its YTD highs. The Macys $M turnaround is still happening.… https://t.co/XnKsV4De39')"
      ],
      "execution_count": 7,
      "outputs": [
        {
          "output_type": "execute_result",
          "data": {
            "application/vnd.google.colaboratory.intrinsic+json": {
              "type": "string"
            },
            "text/plain": [
              "'The price of lumber  LB F is down     since hitting its YTD highs  The Macys  M turnaround is still happening    '"
            ]
          },
          "metadata": {
            "tags": []
          },
          "execution_count": 7
        }
      ]
    },
    {
      "cell_type": "code",
      "metadata": {
        "id": "dGCOvQoobKm7"
      },
      "source": [
        "# import nltk\r\n",
        "# from nltk.corpus import stopwords\r\n",
        "# from nltk.stem.porter import PorterStemmer\r\n",
        "# nltk.download(\"popular\")\r\n",
        "# ps= PorterStemmer()\r\n",
        "cleaned_tweets = []\r\n",
        "\r\n",
        "for i in range(0,len(df['text'])):\r\n",
        "    tweets = re.sub(combined_pat2,' ',df['text'][i])\r\n",
        "    tweets=tweets.lower()\r\n",
        "    tweets=tweets.split()\r\n",
        "    # tweets = [ps.stem(word) for word in tweets if not word in set(stopwords.words('english'))]\r\n",
        "    tweets = ' '.join(tweets)\r\n",
        "    cleaned_tweets.append(tweets)\r\n",
        "df['cleaned_tweets']=cleaned_tweets"
      ],
      "execution_count": 8,
      "outputs": []
    },
    {
      "cell_type": "code",
      "metadata": {
        "id": "Tk01zgF7bwuL",
        "colab": {
          "base_uri": "https://localhost:8080/"
        },
        "outputId": "eeb567ad-a51a-48ad-ba7f-5980f160a270"
      },
      "source": [
        "df['cleaned_tweets'].head(10)"
      ],
      "execution_count": 9,
      "outputs": [
        {
          "output_type": "execute_result",
          "data": {
            "text/plain": [
              "0    video i was in my office i was minding my own ...\n",
              "1    the price of lumber lb f is down since hitting...\n",
              "2                  who says the american dream is dead\n",
              "3    barry silbert is extremely optimistic on bitco...\n",
              "4    how satellites avoid attacks and space junk wh...\n",
              "5    s david butler s favorite fang stock isn t rea...\n",
              "6    don t miss my convo with one of my favorite th...\n",
              "7    u s intelligence documents on nelson mandela m...\n",
              "8    senate wants emergency alerts to go out throug...\n",
              "9    hedge fund manager marc larsy says bitcoin k i...\n",
              "Name: cleaned_tweets, dtype: object"
            ]
          },
          "metadata": {
            "tags": []
          },
          "execution_count": 9
        }
      ]
    },
    {
      "cell_type": "code",
      "metadata": {
        "id": "Mg6hotnjhXy-"
      },
      "source": [
        ""
      ],
      "execution_count": null,
      "outputs": []
    },
    {
      "cell_type": "markdown",
      "metadata": {
        "id": "81pgXAE-jfeg"
      },
      "source": [
        "# !!!Removal of Stop words!!!"
      ]
    },
    {
      "cell_type": "code",
      "metadata": {
        "id": "oW40tCQAjoou"
      },
      "source": [
        "# from gensim.parsing.preprocessing import remove_stopwords"
      ],
      "execution_count": null,
      "outputs": []
    },
    {
      "cell_type": "code",
      "metadata": {
        "id": "-UPER8MEj0F2"
      },
      "source": [
        "# removed_stopwords_tweets = []\n",
        "\n",
        "# for tweet in df['cleaned_tweets']:\n",
        "#   temp = remove_stopwords(tweet)\n",
        "#   removed_stopwords_tweets.append(temp)"
      ],
      "execution_count": null,
      "outputs": []
    },
    {
      "cell_type": "markdown",
      "metadata": {
        "id": "QVRa6d50mUgR"
      },
      "source": [
        "# Tokenization"
      ]
    },
    {
      "cell_type": "code",
      "metadata": {
        "id": "iOwmPJNFmZvX"
      },
      "source": [
        "from gensim.utils import simple_preprocess"
      ],
      "execution_count": 10,
      "outputs": []
    },
    {
      "cell_type": "code",
      "metadata": {
        "id": "nIkDde5MmbYv"
      },
      "source": [
        "df['tokenized_text'] = [simple_preprocess(tweet, deacc=True) for tweet in df['cleaned_tweets']]"
      ],
      "execution_count": 12,
      "outputs": []
    },
    {
      "cell_type": "code",
      "metadata": {
        "colab": {
          "base_uri": "https://localhost:8080/"
        },
        "id": "4DbPnAsIrvDx",
        "outputId": "17543bd8-91a1-4ecd-808c-22bd5b6a7714"
      },
      "source": [
        "df['tokenized_text'].head(10)"
      ],
      "execution_count": 13,
      "outputs": [
        {
          "output_type": "execute_result",
          "data": {
            "text/plain": [
              "0    [video, was, in, my, office, was, minding, my,...\n",
              "1    [the, price, of, lumber, lb, is, down, since, ...\n",
              "2          [who, says, the, american, dream, is, dead]\n",
              "3    [barry, silbert, is, extremely, optimistic, on...\n",
              "4    [how, satellites, avoid, attacks, and, space, ...\n",
              "5    [david, butler, favorite, fang, stock, isn, re...\n",
              "6    [don, miss, my, convo, with, one, of, my, favo...\n",
              "7    [intelligence, documents, on, nelson, mandela,...\n",
              "8    [senate, wants, emergency, alerts, to, go, out...\n",
              "9    [hedge, fund, manager, marc, larsy, says, bitc...\n",
              "Name: tokenized_text, dtype: object"
            ]
          },
          "metadata": {
            "tags": []
          },
          "execution_count": 13
        }
      ]
    },
    {
      "cell_type": "markdown",
      "metadata": {
        "id": "TVZDXP80seL5"
      },
      "source": [
        "# Stemming"
      ]
    },
    {
      "cell_type": "code",
      "metadata": {
        "id": "jqmDxWgpsfdX"
      },
      "source": [
        "from gensim.parsing.porter import PorterStemmer"
      ],
      "execution_count": 14,
      "outputs": []
    },
    {
      "cell_type": "code",
      "metadata": {
        "id": "yVR-aBHDsxrg"
      },
      "source": [
        "PS = PorterStemmer()\n",
        "\n",
        "df['stemmed_tokens'] = [ [PS.stem(word) for word in token] for token in df['tokenized_text']]"
      ],
      "execution_count": 15,
      "outputs": []
    },
    {
      "cell_type": "code",
      "metadata": {
        "colab": {
          "base_uri": "https://localhost:8080/"
        },
        "id": "O5oXa6citU32",
        "outputId": "2a1039e7-3bd5-4141-a8af-995567667c3e"
      },
      "source": [
        "df['stemmed_tokens'].head(10)"
      ],
      "execution_count": 16,
      "outputs": [
        {
          "output_type": "execute_result",
          "data": {
            "text/plain": [
              "0    [video, wa, in, my, offic, wa, mind, my, own, ...\n",
              "1    [the, price, of, lumber, lb, is, down, sinc, h...\n",
              "2           [who, sai, the, american, dream, is, dead]\n",
              "3    [barri, silbert, is, extrem, optimist, on, bit...\n",
              "4    [how, satellit, avoid, attack, and, space, jun...\n",
              "5    [david, butler, favorit, fang, stock, isn, rea...\n",
              "6    [don, miss, my, convo, with, on, of, my, favor...\n",
              "7    [intellig, document, on, nelson, mandela, made...\n",
              "8    [senat, want, emerg, alert, to, go, out, throu...\n",
              "9    [hedg, fund, manag, marc, larsi, sai, bitcoin,...\n",
              "Name: stemmed_tokens, dtype: object"
            ]
          },
          "metadata": {
            "tags": []
          },
          "execution_count": 16
        }
      ]
    },
    {
      "cell_type": "markdown",
      "metadata": {
        "id": "DA9YocuMu6Z2"
      },
      "source": [
        "# Splitting into Training and Testing set"
      ]
    },
    {
      "cell_type": "code",
      "metadata": {
        "id": "RPKov1Atu-SA"
      },
      "source": [
        "from sklearn.model_selection import train_test_split"
      ],
      "execution_count": 17,
      "outputs": []
    },
    {
      "cell_type": "code",
      "metadata": {
        "colab": {
          "base_uri": "https://localhost:8080/",
          "height": 194
        },
        "id": "85GJPHoUvHlo",
        "outputId": "fecb1d53-64e8-448f-bb82-87a2db5df16e"
      },
      "source": [
        "senti.head(5)"
      ],
      "execution_count": 27,
      "outputs": [
        {
          "output_type": "execute_result",
          "data": {
            "text/html": [
              "<div>\n",
              "<style scoped>\n",
              "    .dataframe tbody tr th:only-of-type {\n",
              "        vertical-align: middle;\n",
              "    }\n",
              "\n",
              "    .dataframe tbody tr th {\n",
              "        vertical-align: top;\n",
              "    }\n",
              "\n",
              "    .dataframe thead th {\n",
              "        text-align: right;\n",
              "    }\n",
              "</style>\n",
              "<table border=\"1\" class=\"dataframe\">\n",
              "  <thead>\n",
              "    <tr style=\"text-align: right;\">\n",
              "      <th></th>\n",
              "      <th>cleaned_tweets</th>\n",
              "      <th>sentiment</th>\n",
              "    </tr>\n",
              "  </thead>\n",
              "  <tbody>\n",
              "    <tr>\n",
              "      <th>0</th>\n",
              "      <td>video offic mind busi david solomon tell gs in...</td>\n",
              "      <td>0</td>\n",
              "    </tr>\n",
              "    <tr>\n",
              "      <th>1</th>\n",
              "      <td>price lumber lb f sinc hit ytd high maci turna...</td>\n",
              "      <td>0</td>\n",
              "    </tr>\n",
              "    <tr>\n",
              "      <th>2</th>\n",
              "      <td>say american dream dead</td>\n",
              "      <td>-1</td>\n",
              "    </tr>\n",
              "    <tr>\n",
              "      <th>3</th>\n",
              "      <td>barri silbert extrem optimist bitcoin predict ...</td>\n",
              "      <td>1</td>\n",
              "    </tr>\n",
              "    <tr>\n",
              "      <th>4</th>\n",
              "      <td>satellit avoid attack space junk circl earth paid</td>\n",
              "      <td>-1</td>\n",
              "    </tr>\n",
              "  </tbody>\n",
              "</table>\n",
              "</div>"
            ],
            "text/plain": [
              "                                      cleaned_tweets  sentiment\n",
              "0  video offic mind busi david solomon tell gs in...          0\n",
              "1  price lumber lb f sinc hit ytd high maci turna...          0\n",
              "2                            say american dream dead         -1\n",
              "3  barri silbert extrem optimist bitcoin predict ...          1\n",
              "4  satellit avoid attack space junk circl earth paid         -1"
            ]
          },
          "metadata": {
            "tags": []
          },
          "execution_count": 27
        }
      ]
    },
    {
      "cell_type": "code",
      "metadata": {
        "colab": {
          "base_uri": "https://localhost:8080/"
        },
        "id": "sbP6X1VtxrzX",
        "outputId": "52fbcaab-50e0-458c-fef5-44f7f117f218"
      },
      "source": [
        "df['text'].head(5)"
      ],
      "execution_count": 30,
      "outputs": [
        {
          "output_type": "execute_result",
          "data": {
            "text/plain": [
              "0    VIDEO: “I was in my office. I was minding my o...\n",
              "1    The price of lumber $LB_F is down 22% since hi...\n",
              "2    Who says the American Dream is dead? https://t...\n",
              "3    Barry Silbert is extremely optimistic on bitco...\n",
              "4    How satellites avoid attacks and space junk wh...\n",
              "Name: text, dtype: object"
            ]
          },
          "metadata": {
            "tags": []
          },
          "execution_count": 30
        }
      ]
    },
    {
      "cell_type": "code",
      "metadata": {
        "id": "CTc1-cvxzdia"
      },
      "source": [
        "random.seed(0)"
      ],
      "execution_count": null,
      "outputs": []
    },
    {
      "cell_type": "code",
      "metadata": {
        "id": "MAUVMrtAxPnp"
      },
      "source": [
        "x_train, x_test, y_train, y_test = train_test_split(\n",
        "    df['stemmed_tokens'],\n",
        "    senti['sentiment'],\n",
        "    shuffle = True,\n",
        "    test_size = 0.3,\n",
        "    random_state = random.randint(1,100)\n",
        ")"
      ],
      "execution_count": 33,
      "outputs": []
    },
    {
      "cell_type": "code",
      "metadata": {
        "colab": {
          "base_uri": "https://localhost:8080/"
        },
        "id": "0lj2w6AW0Grq",
        "outputId": "ca369d99-f022-4193-e311-cab280de580e"
      },
      "source": [
        "print(f'Training Samples :\\n{y_train.value_counts()}')"
      ],
      "execution_count": 40,
      "outputs": [
        {
          "output_type": "stream",
          "text": [
            "Training Samples :\n",
            " 0    12130\n",
            " 1     5969\n",
            "-1     1809\n",
            "Name: sentiment, dtype: int64\n"
          ],
          "name": "stdout"
        }
      ]
    },
    {
      "cell_type": "code",
      "metadata": {
        "colab": {
          "base_uri": "https://localhost:8080/"
        },
        "id": "ujUrlWLO0k6Y",
        "outputId": "b9e45cf4-d811-471a-afc1-3c449463338c"
      },
      "source": [
        "print(f'Testing Samples :\\n{y_test.value_counts()}')"
      ],
      "execution_count": 41,
      "outputs": [
        {
          "output_type": "stream",
          "text": [
            "Testing Samples :\n",
            " 0    5200\n",
            " 1    2543\n",
            "-1     789\n",
            "Name: sentiment, dtype: int64\n"
          ],
          "name": "stdout"
        }
      ]
    },
    {
      "cell_type": "code",
      "metadata": {
        "id": "8BWQmZ1h0nFt"
      },
      "source": [
        " "
      ],
      "execution_count": null,
      "outputs": []
    }
  ]
}