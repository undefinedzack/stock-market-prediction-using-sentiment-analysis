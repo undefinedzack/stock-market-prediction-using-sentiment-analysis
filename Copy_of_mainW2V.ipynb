{
  "nbformat": 4,
  "nbformat_minor": 0,
  "metadata": {
    "kernelspec": {
      "display_name": "Python 3",
      "language": "python",
      "name": "python3"
    },
    "language_info": {
      "codemirror_mode": {
        "name": "ipython",
        "version": 2
      },
      "file_extension": ".py",
      "mimetype": "text/x-python",
      "name": "python",
      "nbconvert_exporter": "python",
      "pygments_lexer": "ipython2",
      "version": "2.7.6"
    },
    "colab": {
      "name": "Copy_of_mainW2V.ipynb",
      "provenance": [],
      "collapsed_sections": [],
      "include_colab_link": true
    }
  },
  "cells": [
    {
      "cell_type": "markdown",
      "metadata": {
        "id": "view-in-github",
        "colab_type": "text"
      },
      "source": [
        "<a href=\"https://colab.research.google.com/github/undefinedzack/stock-market-prediction-using-sentiment-analysis/blob/master/Copy_of_mainW2V.ipynb\" target=\"_parent\"><img src=\"https://colab.research.google.com/assets/colab-badge.svg\" alt=\"Open In Colab\"/></a>"
      ]
    },
    {
      "cell_type": "markdown",
      "metadata": {
        "id": "rNgYS9JgL2jj"
      },
      "source": [
        "## Data Manipulation"
      ]
    },
    {
      "cell_type": "code",
      "metadata": {
        "colab": {
          "base_uri": "https://localhost:8080/"
        },
        "id": "YrCppskIA40C",
        "outputId": "58ea03cc-5c8a-4abb-c27c-902d778d6e2f"
      },
      "source": [
        "from google.colab import drive\n",
        "drive.mount('/content/drive')"
      ],
      "execution_count": null,
      "outputs": [
        {
          "output_type": "stream",
          "text": [
            "Mounted at /content/drive\n"
          ],
          "name": "stdout"
        }
      ]
    },
    {
      "cell_type": "code",
      "metadata": {
        "colab": {
          "base_uri": "https://localhost:8080/"
        },
        "id": "Hb3DcQ23XAu2",
        "outputId": "4ad296ae-681f-459f-846d-e59a7c7251b5"
      },
      "source": [
        "%cd drive/MyDrive/Colab_Data/\n",
        "%ls"
      ],
      "execution_count": null,
      "outputs": [
        {
          "output_type": "stream",
          "text": [
            "/content/drive/MyDrive/Colab_Data\n",
            "stockerbot-export1.csv  tweet_sentiment.csv\n"
          ],
          "name": "stdout"
        }
      ]
    },
    {
      "cell_type": "code",
      "metadata": {
        "colab": {
          "resources": {
            "http://localhost:8080/nbextensions/google.colab/files.js": {
              "data": "Ly8gQ29weXJpZ2h0IDIwMTcgR29vZ2xlIExMQwovLwovLyBMaWNlbnNlZCB1bmRlciB0aGUgQXBhY2hlIExpY2Vuc2UsIFZlcnNpb24gMi4wICh0aGUgIkxpY2Vuc2UiKTsKLy8geW91IG1heSBub3QgdXNlIHRoaXMgZmlsZSBleGNlcHQgaW4gY29tcGxpYW5jZSB3aXRoIHRoZSBMaWNlbnNlLgovLyBZb3UgbWF5IG9idGFpbiBhIGNvcHkgb2YgdGhlIExpY2Vuc2UgYXQKLy8KLy8gICAgICBodHRwOi8vd3d3LmFwYWNoZS5vcmcvbGljZW5zZXMvTElDRU5TRS0yLjAKLy8KLy8gVW5sZXNzIHJlcXVpcmVkIGJ5IGFwcGxpY2FibGUgbGF3IG9yIGFncmVlZCB0byBpbiB3cml0aW5nLCBzb2Z0d2FyZQovLyBkaXN0cmlidXRlZCB1bmRlciB0aGUgTGljZW5zZSBpcyBkaXN0cmlidXRlZCBvbiBhbiAiQVMgSVMiIEJBU0lTLAovLyBXSVRIT1VUIFdBUlJBTlRJRVMgT1IgQ09ORElUSU9OUyBPRiBBTlkgS0lORCwgZWl0aGVyIGV4cHJlc3Mgb3IgaW1wbGllZC4KLy8gU2VlIHRoZSBMaWNlbnNlIGZvciB0aGUgc3BlY2lmaWMgbGFuZ3VhZ2UgZ292ZXJuaW5nIHBlcm1pc3Npb25zIGFuZAovLyBsaW1pdGF0aW9ucyB1bmRlciB0aGUgTGljZW5zZS4KCi8qKgogKiBAZmlsZW92ZXJ2aWV3IEhlbHBlcnMgZm9yIGdvb2dsZS5jb2xhYiBQeXRob24gbW9kdWxlLgogKi8KKGZ1bmN0aW9uKHNjb3BlKSB7CmZ1bmN0aW9uIHNwYW4odGV4dCwgc3R5bGVBdHRyaWJ1dGVzID0ge30pIHsKICBjb25zdCBlbGVtZW50ID0gZG9jdW1lbnQuY3JlYXRlRWxlbWVudCgnc3BhbicpOwogIGVsZW1lbnQudGV4dENvbnRlbnQgPSB0ZXh0OwogIGZvciAoY29uc3Qga2V5IG9mIE9iamVjdC5rZXlzKHN0eWxlQXR0cmlidXRlcykpIHsKICAgIGVsZW1lbnQuc3R5bGVba2V5XSA9IHN0eWxlQXR0cmlidXRlc1trZXldOwogIH0KICByZXR1cm4gZWxlbWVudDsKfQoKLy8gTWF4IG51bWJlciBvZiBieXRlcyB3aGljaCB3aWxsIGJlIHVwbG9hZGVkIGF0IGEgdGltZS4KY29uc3QgTUFYX1BBWUxPQURfU0laRSA9IDEwMCAqIDEwMjQ7CgpmdW5jdGlvbiBfdXBsb2FkRmlsZXMoaW5wdXRJZCwgb3V0cHV0SWQpIHsKICBjb25zdCBzdGVwcyA9IHVwbG9hZEZpbGVzU3RlcChpbnB1dElkLCBvdXRwdXRJZCk7CiAgY29uc3Qgb3V0cHV0RWxlbWVudCA9IGRvY3VtZW50LmdldEVsZW1lbnRCeUlkKG91dHB1dElkKTsKICAvLyBDYWNoZSBzdGVwcyBvbiB0aGUgb3V0cHV0RWxlbWVudCB0byBtYWtlIGl0IGF2YWlsYWJsZSBmb3IgdGhlIG5leHQgY2FsbAogIC8vIHRvIHVwbG9hZEZpbGVzQ29udGludWUgZnJvbSBQeXRob24uCiAgb3V0cHV0RWxlbWVudC5zdGVwcyA9IHN0ZXBzOwoKICByZXR1cm4gX3VwbG9hZEZpbGVzQ29udGludWUob3V0cHV0SWQpOwp9CgovLyBUaGlzIGlzIHJvdWdobHkgYW4gYXN5bmMgZ2VuZXJhdG9yIChub3Qgc3VwcG9ydGVkIGluIHRoZSBicm93c2VyIHlldCksCi8vIHdoZXJlIHRoZXJlIGFyZSBtdWx0aXBsZSBhc3luY2hyb25vdXMgc3RlcHMgYW5kIHRoZSBQeXRob24gc2lkZSBpcyBnb2luZwovLyB0byBwb2xsIGZvciBjb21wbGV0aW9uIG9mIGVhY2ggc3RlcC4KLy8gVGhpcyB1c2VzIGEgUHJvbWlzZSB0byBibG9jayB0aGUgcHl0aG9uIHNpZGUgb24gY29tcGxldGlvbiBvZiBlYWNoIHN0ZXAsCi8vIHRoZW4gcGFzc2VzIHRoZSByZXN1bHQgb2YgdGhlIHByZXZpb3VzIHN0ZXAgYXMgdGhlIGlucHV0IHRvIHRoZSBuZXh0IHN0ZXAuCmZ1bmN0aW9uIF91cGxvYWRGaWxlc0NvbnRpbnVlKG91dHB1dElkKSB7CiAgY29uc3Qgb3V0cHV0RWxlbWVudCA9IGRvY3VtZW50LmdldEVsZW1lbnRCeUlkKG91dHB1dElkKTsKICBjb25zdCBzdGVwcyA9IG91dHB1dEVsZW1lbnQuc3RlcHM7CgogIGNvbnN0IG5leHQgPSBzdGVwcy5uZXh0KG91dHB1dEVsZW1lbnQubGFzdFByb21pc2VWYWx1ZSk7CiAgcmV0dXJuIFByb21pc2UucmVzb2x2ZShuZXh0LnZhbHVlLnByb21pc2UpLnRoZW4oKHZhbHVlKSA9PiB7CiAgICAvLyBDYWNoZSB0aGUgbGFzdCBwcm9taXNlIHZhbHVlIHRvIG1ha2UgaXQgYXZhaWxhYmxlIHRvIHRoZSBuZXh0CiAgICAvLyBzdGVwIG9mIHRoZSBnZW5lcmF0b3IuCiAgICBvdXRwdXRFbGVtZW50Lmxhc3RQcm9taXNlVmFsdWUgPSB2YWx1ZTsKICAgIHJldHVybiBuZXh0LnZhbHVlLnJlc3BvbnNlOwogIH0pOwp9CgovKioKICogR2VuZXJhdG9yIGZ1bmN0aW9uIHdoaWNoIGlzIGNhbGxlZCBiZXR3ZWVuIGVhY2ggYXN5bmMgc3RlcCBvZiB0aGUgdXBsb2FkCiAqIHByb2Nlc3MuCiAqIEBwYXJhbSB7c3RyaW5nfSBpbnB1dElkIEVsZW1lbnQgSUQgb2YgdGhlIGlucHV0IGZpbGUgcGlja2VyIGVsZW1lbnQuCiAqIEBwYXJhbSB7c3RyaW5nfSBvdXRwdXRJZCBFbGVtZW50IElEIG9mIHRoZSBvdXRwdXQgZGlzcGxheS4KICogQHJldHVybiB7IUl0ZXJhYmxlPCFPYmplY3Q+fSBJdGVyYWJsZSBvZiBuZXh0IHN0ZXBzLgogKi8KZnVuY3Rpb24qIHVwbG9hZEZpbGVzU3RlcChpbnB1dElkLCBvdXRwdXRJZCkgewogIGNvbnN0IGlucHV0RWxlbWVudCA9IGRvY3VtZW50LmdldEVsZW1lbnRCeUlkKGlucHV0SWQpOwogIGlucHV0RWxlbWVudC5kaXNhYmxlZCA9IGZhbHNlOwoKICBjb25zdCBvdXRwdXRFbGVtZW50ID0gZG9jdW1lbnQuZ2V0RWxlbWVudEJ5SWQob3V0cHV0SWQpOwogIG91dHB1dEVsZW1lbnQuaW5uZXJIVE1MID0gJyc7CgogIGNvbnN0IHBpY2tlZFByb21pc2UgPSBuZXcgUHJvbWlzZSgocmVzb2x2ZSkgPT4gewogICAgaW5wdXRFbGVtZW50LmFkZEV2ZW50TGlzdGVuZXIoJ2NoYW5nZScsIChlKSA9PiB7CiAgICAgIHJlc29sdmUoZS50YXJnZXQuZmlsZXMpOwogICAgfSk7CiAgfSk7CgogIGNvbnN0IGNhbmNlbCA9IGRvY3VtZW50LmNyZWF0ZUVsZW1lbnQoJ2J1dHRvbicpOwogIGlucHV0RWxlbWVudC5wYXJlbnRFbGVtZW50LmFwcGVuZENoaWxkKGNhbmNlbCk7CiAgY2FuY2VsLnRleHRDb250ZW50ID0gJ0NhbmNlbCB1cGxvYWQnOwogIGNvbnN0IGNhbmNlbFByb21pc2UgPSBuZXcgUHJvbWlzZSgocmVzb2x2ZSkgPT4gewogICAgY2FuY2VsLm9uY2xpY2sgPSAoKSA9PiB7CiAgICAgIHJlc29sdmUobnVsbCk7CiAgICB9OwogIH0pOwoKICAvLyBXYWl0IGZvciB0aGUgdXNlciB0byBwaWNrIHRoZSBmaWxlcy4KICBjb25zdCBmaWxlcyA9IHlpZWxkIHsKICAgIHByb21pc2U6IFByb21pc2UucmFjZShbcGlja2VkUHJvbWlzZSwgY2FuY2VsUHJvbWlzZV0pLAogICAgcmVzcG9uc2U6IHsKICAgICAgYWN0aW9uOiAnc3RhcnRpbmcnLAogICAgfQogIH07CgogIGNhbmNlbC5yZW1vdmUoKTsKCiAgLy8gRGlzYWJsZSB0aGUgaW5wdXQgZWxlbWVudCBzaW5jZSBmdXJ0aGVyIHBpY2tzIGFyZSBub3QgYWxsb3dlZC4KICBpbnB1dEVsZW1lbnQuZGlzYWJsZWQgPSB0cnVlOwoKICBpZiAoIWZpbGVzKSB7CiAgICByZXR1cm4gewogICAgICByZXNwb25zZTogewogICAgICAgIGFjdGlvbjogJ2NvbXBsZXRlJywKICAgICAgfQogICAgfTsKICB9CgogIGZvciAoY29uc3QgZmlsZSBvZiBmaWxlcykgewogICAgY29uc3QgbGkgPSBkb2N1bWVudC5jcmVhdGVFbGVtZW50KCdsaScpOwogICAgbGkuYXBwZW5kKHNwYW4oZmlsZS5uYW1lLCB7Zm9udFdlaWdodDogJ2JvbGQnfSkpOwogICAgbGkuYXBwZW5kKHNwYW4oCiAgICAgICAgYCgke2ZpbGUudHlwZSB8fCAnbi9hJ30pIC0gJHtmaWxlLnNpemV9IGJ5dGVzLCBgICsKICAgICAgICBgbGFzdCBtb2RpZmllZDogJHsKICAgICAgICAgICAgZmlsZS5sYXN0TW9kaWZpZWREYXRlID8gZmlsZS5sYXN0TW9kaWZpZWREYXRlLnRvTG9jYWxlRGF0ZVN0cmluZygpIDoKICAgICAgICAgICAgICAgICAgICAgICAgICAgICAgICAgICAgJ24vYSd9IC0gYCkpOwogICAgY29uc3QgcGVyY2VudCA9IHNwYW4oJzAlIGRvbmUnKTsKICAgIGxpLmFwcGVuZENoaWxkKHBlcmNlbnQpOwoKICAgIG91dHB1dEVsZW1lbnQuYXBwZW5kQ2hpbGQobGkpOwoKICAgIGNvbnN0IGZpbGVEYXRhUHJvbWlzZSA9IG5ldyBQcm9taXNlKChyZXNvbHZlKSA9PiB7CiAgICAgIGNvbnN0IHJlYWRlciA9IG5ldyBGaWxlUmVhZGVyKCk7CiAgICAgIHJlYWRlci5vbmxvYWQgPSAoZSkgPT4gewogICAgICAgIHJlc29sdmUoZS50YXJnZXQucmVzdWx0KTsKICAgICAgfTsKICAgICAgcmVhZGVyLnJlYWRBc0FycmF5QnVmZmVyKGZpbGUpOwogICAgfSk7CiAgICAvLyBXYWl0IGZvciB0aGUgZGF0YSB0byBiZSByZWFkeS4KICAgIGxldCBmaWxlRGF0YSA9IHlpZWxkIHsKICAgICAgcHJvbWlzZTogZmlsZURhdGFQcm9taXNlLAogICAgICByZXNwb25zZTogewogICAgICAgIGFjdGlvbjogJ2NvbnRpbnVlJywKICAgICAgfQogICAgfTsKCiAgICAvLyBVc2UgYSBjaHVua2VkIHNlbmRpbmcgdG8gYXZvaWQgbWVzc2FnZSBzaXplIGxpbWl0cy4gU2VlIGIvNjIxMTU2NjAuCiAgICBsZXQgcG9zaXRpb24gPSAwOwogICAgd2hpbGUgKHBvc2l0aW9uIDwgZmlsZURhdGEuYnl0ZUxlbmd0aCkgewogICAgICBjb25zdCBsZW5ndGggPSBNYXRoLm1pbihmaWxlRGF0YS5ieXRlTGVuZ3RoIC0gcG9zaXRpb24sIE1BWF9QQVlMT0FEX1NJWkUpOwogICAgICBjb25zdCBjaHVuayA9IG5ldyBVaW50OEFycmF5KGZpbGVEYXRhLCBwb3NpdGlvbiwgbGVuZ3RoKTsKICAgICAgcG9zaXRpb24gKz0gbGVuZ3RoOwoKICAgICAgY29uc3QgYmFzZTY0ID0gYnRvYShTdHJpbmcuZnJvbUNoYXJDb2RlLmFwcGx5KG51bGwsIGNodW5rKSk7CiAgICAgIHlpZWxkIHsKICAgICAgICByZXNwb25zZTogewogICAgICAgICAgYWN0aW9uOiAnYXBwZW5kJywKICAgICAgICAgIGZpbGU6IGZpbGUubmFtZSwKICAgICAgICAgIGRhdGE6IGJhc2U2NCwKICAgICAgICB9LAogICAgICB9OwogICAgICBwZXJjZW50LnRleHRDb250ZW50ID0KICAgICAgICAgIGAke01hdGgucm91bmQoKHBvc2l0aW9uIC8gZmlsZURhdGEuYnl0ZUxlbmd0aCkgKiAxMDApfSUgZG9uZWA7CiAgICB9CiAgfQoKICAvLyBBbGwgZG9uZS4KICB5aWVsZCB7CiAgICByZXNwb25zZTogewogICAgICBhY3Rpb246ICdjb21wbGV0ZScsCiAgICB9CiAgfTsKfQoKc2NvcGUuZ29vZ2xlID0gc2NvcGUuZ29vZ2xlIHx8IHt9OwpzY29wZS5nb29nbGUuY29sYWIgPSBzY29wZS5nb29nbGUuY29sYWIgfHwge307CnNjb3BlLmdvb2dsZS5jb2xhYi5fZmlsZXMgPSB7CiAgX3VwbG9hZEZpbGVzLAogIF91cGxvYWRGaWxlc0NvbnRpbnVlLAp9Owp9KShzZWxmKTsK",
              "ok": true,
              "headers": [
                [
                  "content-type",
                  "application/javascript"
                ]
              ],
              "status": 200,
              "status_text": ""
            }
          },
          "base_uri": "https://localhost:8080/",
          "height": 106
        },
        "id": "3ZWZ0OEgKf2n",
        "outputId": "b2a7da7d-c450-4104-897a-3d3c3b88c6ed"
      },
      "source": [
        "from google.colab import files \r\n",
        "uploaded = files.upload()"
      ],
      "execution_count": null,
      "outputs": [
        {
          "output_type": "display_data",
          "data": {
            "text/html": [
              "\n",
              "     <input type=\"file\" id=\"files-9defc0ba-668a-4a9c-8b1e-42d18ac8ca1f\" name=\"files[]\" multiple disabled\n",
              "        style=\"border:none\" />\n",
              "     <output id=\"result-9defc0ba-668a-4a9c-8b1e-42d18ac8ca1f\">\n",
              "      Upload widget is only available when the cell has been executed in the\n",
              "      current browser session. Please rerun this cell to enable.\n",
              "      </output>\n",
              "      <script src=\"/nbextensions/google.colab/files.js\"></script> "
            ],
            "text/plain": [
              "<IPython.core.display.HTML object>"
            ]
          },
          "metadata": {
            "tags": []
          }
        },
        {
          "output_type": "stream",
          "text": [
            "Saving stockerbot-export1.csv to stockerbot-export1.csv\n",
            "Saving tweet_sentiment.csv to tweet_sentiment.csv\n"
          ],
          "name": "stdout"
        }
      ]
    },
    {
      "cell_type": "code",
      "metadata": {
        "id": "OpmjkHEvziLP"
      },
      "source": [
        "import pandas as pd \n",
        "import io\n",
        "import random"
      ],
      "execution_count": null,
      "outputs": []
    },
    {
      "cell_type": "code",
      "metadata": {
        "id": "HUFmosAFLMs3"
      },
      "source": [
        "df = pd.read_csv('stockerbot-export1.csv') \r\n",
        "senti = pd.read_csv('tweet_sentiment.csv') "
      ],
      "execution_count": null,
      "outputs": []
    },
    {
      "cell_type": "code",
      "metadata": {
        "colab": {
          "base_uri": "https://localhost:8080/",
          "height": 513
        },
        "id": "C0a4ntY_Lvte",
        "outputId": "59a55959-874a-48ca-ea1b-131eae759d22"
      },
      "source": [
        "df.head(10)"
      ],
      "execution_count": null,
      "outputs": [
        {
          "output_type": "execute_result",
          "data": {
            "text/html": [
              "<div>\n",
              "<style scoped>\n",
              "    .dataframe tbody tr th:only-of-type {\n",
              "        vertical-align: middle;\n",
              "    }\n",
              "\n",
              "    .dataframe tbody tr th {\n",
              "        vertical-align: top;\n",
              "    }\n",
              "\n",
              "    .dataframe thead th {\n",
              "        text-align: right;\n",
              "    }\n",
              "</style>\n",
              "<table border=\"1\" class=\"dataframe\">\n",
              "  <thead>\n",
              "    <tr style=\"text-align: right;\">\n",
              "      <th></th>\n",
              "      <th>id</th>\n",
              "      <th>text</th>\n",
              "      <th>timestamp</th>\n",
              "      <th>source</th>\n",
              "      <th>symbols</th>\n",
              "      <th>company_names</th>\n",
              "      <th>url</th>\n",
              "      <th>verified</th>\n",
              "    </tr>\n",
              "  </thead>\n",
              "  <tbody>\n",
              "    <tr>\n",
              "      <th>0</th>\n",
              "      <td>1.0197E+18</td>\n",
              "      <td>VIDEO: “I was in my office. I was minding my o...</td>\n",
              "      <td>Wed Jul 18 21:33:26 +0000 2018</td>\n",
              "      <td>GoldmanSachs</td>\n",
              "      <td>GS</td>\n",
              "      <td>The Goldman Sachs</td>\n",
              "      <td>https://twitter.com/i/web/status/1019696670777...</td>\n",
              "      <td>TRUE</td>\n",
              "    </tr>\n",
              "    <tr>\n",
              "      <th>1</th>\n",
              "      <td>1.01971E+18</td>\n",
              "      <td>The price of lumber $LB_F is down 22% since hi...</td>\n",
              "      <td>Wed Jul 18 22:22:47 +0000 2018</td>\n",
              "      <td>StockTwits</td>\n",
              "      <td>M</td>\n",
              "      <td>Macy's</td>\n",
              "      <td>https://twitter.com/i/web/status/1019709091038...</td>\n",
              "      <td>TRUE</td>\n",
              "    </tr>\n",
              "    <tr>\n",
              "      <th>2</th>\n",
              "      <td>1.01971E+18</td>\n",
              "      <td>Who says the American Dream is dead? https://t...</td>\n",
              "      <td>Wed Jul 18 22:32:01 +0000 2018</td>\n",
              "      <td>TheStreet</td>\n",
              "      <td>AIG</td>\n",
              "      <td>American</td>\n",
              "      <td>https://buff.ly/2L3kmc4</td>\n",
              "      <td>TRUE</td>\n",
              "    </tr>\n",
              "    <tr>\n",
              "      <th>3</th>\n",
              "      <td>1.01972E+18</td>\n",
              "      <td>Barry Silbert is extremely optimistic on bitco...</td>\n",
              "      <td>Wed Jul 18 22:52:52 +0000 2018</td>\n",
              "      <td>MarketWatch</td>\n",
              "      <td>BTC</td>\n",
              "      <td>Bitcoin</td>\n",
              "      <td>https://twitter.com/i/web/status/1019716662587...</td>\n",
              "      <td>TRUE</td>\n",
              "    </tr>\n",
              "    <tr>\n",
              "      <th>4</th>\n",
              "      <td>1.01972E+18</td>\n",
              "      <td>How satellites avoid attacks and space junk wh...</td>\n",
              "      <td>Wed Jul 18 23:00:01 +0000 2018</td>\n",
              "      <td>Forbes</td>\n",
              "      <td>ORCL</td>\n",
              "      <td>Oracle</td>\n",
              "      <td>http://on.forbes.com/6013DqDDU</td>\n",
              "      <td>TRUE</td>\n",
              "    </tr>\n",
              "    <tr>\n",
              "      <th>5</th>\n",
              "      <td>1.01972E+18</td>\n",
              "      <td>.@RealMoney's David Butler's favorite FANG sto...</td>\n",
              "      <td>Wed Jul 18 23:04:00 +0000 2018</td>\n",
              "      <td>jimcramer</td>\n",
              "      <td>FB-GOOGL-GOOG</td>\n",
              "      <td>Facebook*Alphabet*Alphabet</td>\n",
              "      <td>http://bit.ly/2NrYxje</td>\n",
              "      <td>TRUE</td>\n",
              "    </tr>\n",
              "    <tr>\n",
              "      <th>6</th>\n",
              "      <td>1.01972E+18</td>\n",
              "      <td>Don’t miss my convo with one of my favorite th...</td>\n",
              "      <td>Wed Jul 18 23:06:58 +0000 2018</td>\n",
              "      <td>ianbremmer</td>\n",
              "      <td>HRS</td>\n",
              "      <td>Harris</td>\n",
              "      <td>https://twitter.com/samharrisorg/status/101971...</td>\n",
              "      <td>TRUE</td>\n",
              "    </tr>\n",
              "    <tr>\n",
              "      <th>7</th>\n",
              "      <td>1.01972E+18</td>\n",
              "      <td>U.S. intelligence documents on Nelson Mandela ...</td>\n",
              "      <td>Wed Jul 18 23:08:45 +0000 2018</td>\n",
              "      <td>Reuters</td>\n",
              "      <td>INTC-USB</td>\n",
              "      <td>Intel*U.S.</td>\n",
              "      <td>https://reut.rs/2O0ypNf</td>\n",
              "      <td>TRUE</td>\n",
              "    </tr>\n",
              "    <tr>\n",
              "      <th>8</th>\n",
              "      <td>1.01972E+18</td>\n",
              "      <td>Senate wants emergency alerts to go out throug...</td>\n",
              "      <td>Wed Jul 18 23:09:00 +0000 2018</td>\n",
              "      <td>TechCrunch</td>\n",
              "      <td>NFLX</td>\n",
              "      <td>Netflix</td>\n",
              "      <td>https://tcrn.ch/2L8DsgT</td>\n",
              "      <td>TRUE</td>\n",
              "    </tr>\n",
              "    <tr>\n",
              "      <th>9</th>\n",
              "      <td>1.01972E+18</td>\n",
              "      <td>Hedge fund manager Marc Larsy says bitcoin $40...</td>\n",
              "      <td>Wed Jul 18 23:10:41 +0000 2018</td>\n",
              "      <td>MarketWatch</td>\n",
              "      <td>BTC</td>\n",
              "      <td>Bitcoin</td>\n",
              "      <td>https://on.mktw.net/2Ntr7k9</td>\n",
              "      <td>TRUE</td>\n",
              "    </tr>\n",
              "  </tbody>\n",
              "</table>\n",
              "</div>"
            ],
            "text/plain": [
              "            id  ... verified\n",
              "0   1.0197E+18  ...     TRUE\n",
              "1  1.01971E+18  ...     TRUE\n",
              "2  1.01971E+18  ...     TRUE\n",
              "3  1.01972E+18  ...     TRUE\n",
              "4  1.01972E+18  ...     TRUE\n",
              "5  1.01972E+18  ...     TRUE\n",
              "6  1.01972E+18  ...     TRUE\n",
              "7  1.01972E+18  ...     TRUE\n",
              "8  1.01972E+18  ...     TRUE\n",
              "9  1.01972E+18  ...     TRUE\n",
              "\n",
              "[10 rows x 8 columns]"
            ]
          },
          "metadata": {
            "tags": []
          },
          "execution_count": 4
        }
      ]
    },
    {
      "cell_type": "code",
      "metadata": {
        "id": "KOB2eAXueCRS",
        "colab": {
          "base_uri": "https://localhost:8080/",
          "height": 35
        },
        "outputId": "8a55f63c-ffed-4ce2-f7f5-65e395320f65"
      },
      "source": [
        "df['text'][1]"
      ],
      "execution_count": null,
      "outputs": [
        {
          "output_type": "execute_result",
          "data": {
            "application/vnd.google.colaboratory.intrinsic+json": {
              "type": "string"
            },
            "text/plain": [
              "\"The price of lumber $LB_F is down 22% since hitting its YTD highs. The Macy's $M turnaround is still happening.… https://t.co/XnKsV4De39\""
            ]
          },
          "metadata": {
            "tags": []
          },
          "execution_count": 5
        }
      ]
    },
    {
      "cell_type": "code",
      "metadata": {
        "id": "5rgXSUx9Z240",
        "colab": {
          "base_uri": "https://localhost:8080/"
        },
        "outputId": "76cab2c3-6054-4ff6-e84f-a08d382df6d2"
      },
      "source": [
        "len(df['text'])"
      ],
      "execution_count": null,
      "outputs": [
        {
          "output_type": "execute_result",
          "data": {
            "text/plain": [
              "28440"
            ]
          },
          "metadata": {
            "tags": []
          },
          "execution_count": 6
        }
      ]
    },
    {
      "cell_type": "code",
      "metadata": {
        "id": "XOaRiM1zb5Xj"
      },
      "source": [
        "##regular expressions for ids and links from text section\r\n",
        "pat1= r'@[A-Za-z0-9]+'\r\n",
        "pat2= r'https?://[A-Za-z0-9./]+'\r\n",
        "#pat1|pat2\r\n",
        "combined_pat=r'|'.join((pat1,pat2))\r\n",
        "#no word should start with special symbol\r\n",
        "pat3= r'[^a-zA-Z]'\r\n",
        "combined_pat2=r'|'.join((combined_pat,pat3))"
      ],
      "execution_count": null,
      "outputs": []
    },
    {
      "cell_type": "code",
      "metadata": {
        "id": "pjCx-xTedn6p",
        "colab": {
          "base_uri": "https://localhost:8080/",
          "height": 35
        },
        "outputId": "39cc5acc-87ec-4f1a-e566-19e5c6f9b7f3"
      },
      "source": [
        "#demonstration\r\n",
        "import re\r\n",
        "re.sub(combined_pat2,' ','The price of lumber $LB_F is down 22% since hitting its YTD highs. The Macys $M turnaround is still happening.… https://t.co/XnKsV4De39')"
      ],
      "execution_count": null,
      "outputs": [
        {
          "output_type": "execute_result",
          "data": {
            "application/vnd.google.colaboratory.intrinsic+json": {
              "type": "string"
            },
            "text/plain": [
              "'The price of lumber  LB F is down     since hitting its YTD highs  The Macys  M turnaround is still happening    '"
            ]
          },
          "metadata": {
            "tags": []
          },
          "execution_count": 8
        }
      ]
    },
    {
      "cell_type": "code",
      "metadata": {
        "id": "dGCOvQoobKm7"
      },
      "source": [
        "# import nltk\r\n",
        "# from nltk.corpus import stopwords\r\n",
        "# from nltk.stem.porter import PorterStemmer\r\n",
        "# nltk.download(\"popular\")\r\n",
        "# ps= PorterStemmer()\r\n",
        "cleaned_tweets = []\r\n",
        "\r\n",
        "for i in range(0,len(df['text'])):\r\n",
        "    tweets = re.sub(combined_pat2,' ',df['text'][i])\r\n",
        "    tweets=tweets.lower()\r\n",
        "    tweets=tweets.split()\r\n",
        "    # tweets = [ps.stem(word) for word in tweets if not word in set(stopwords.words('english'))]\r\n",
        "    tweets = ' '.join(tweets)\r\n",
        "    cleaned_tweets.append(tweets)\r\n",
        "df['cleaned_tweets']=cleaned_tweets"
      ],
      "execution_count": null,
      "outputs": []
    },
    {
      "cell_type": "code",
      "metadata": {
        "id": "Tk01zgF7bwuL",
        "colab": {
          "base_uri": "https://localhost:8080/"
        },
        "outputId": "371a0e9d-9c0a-4e61-eb91-cf9e3ff5d2fb"
      },
      "source": [
        "df['cleaned_tweets'].head(10)"
      ],
      "execution_count": null,
      "outputs": [
        {
          "output_type": "execute_result",
          "data": {
            "text/plain": [
              "0    video i was in my office i was minding my own ...\n",
              "1    the price of lumber lb f is down since hitting...\n",
              "2                  who says the american dream is dead\n",
              "3    barry silbert is extremely optimistic on bitco...\n",
              "4    how satellites avoid attacks and space junk wh...\n",
              "5    s david butler s favorite fang stock isn t rea...\n",
              "6    don t miss my convo with one of my favorite th...\n",
              "7    u s intelligence documents on nelson mandela m...\n",
              "8    senate wants emergency alerts to go out throug...\n",
              "9    hedge fund manager marc larsy says bitcoin k i...\n",
              "Name: cleaned_tweets, dtype: object"
            ]
          },
          "metadata": {
            "tags": []
          },
          "execution_count": 10
        }
      ]
    },
    {
      "cell_type": "code",
      "metadata": {
        "id": "Mg6hotnjhXy-"
      },
      "source": [
        ""
      ],
      "execution_count": null,
      "outputs": []
    },
    {
      "cell_type": "markdown",
      "metadata": {
        "id": "81pgXAE-jfeg"
      },
      "source": [
        "# !!!Removal of Stop words!!!"
      ]
    },
    {
      "cell_type": "code",
      "metadata": {
        "id": "oW40tCQAjoou"
      },
      "source": [
        "# from gensim.parsing.preprocessing import remove_stopwords"
      ],
      "execution_count": null,
      "outputs": []
    },
    {
      "cell_type": "code",
      "metadata": {
        "id": "-UPER8MEj0F2"
      },
      "source": [
        "# removed_stopwords_tweets = []\n",
        "\n",
        "# for tweet in df['cleaned_tweets']:\n",
        "#   temp = remove_stopwords(tweet)\n",
        "#   removed_stopwords_tweets.append(temp)"
      ],
      "execution_count": null,
      "outputs": []
    },
    {
      "cell_type": "markdown",
      "metadata": {
        "id": "QVRa6d50mUgR"
      },
      "source": [
        "# Tokenization"
      ]
    },
    {
      "cell_type": "code",
      "metadata": {
        "id": "iOwmPJNFmZvX"
      },
      "source": [
        "from gensim.utils import simple_preprocess"
      ],
      "execution_count": null,
      "outputs": []
    },
    {
      "cell_type": "code",
      "metadata": {
        "colab": {
          "base_uri": "https://localhost:8080/",
          "height": 195
        },
        "id": "85GJPHoUvHlo",
        "outputId": "fbd09a5c-2342-488e-ec3c-5ffdcb90dada"
      },
      "source": [
        "senti.head(5)"
      ],
      "execution_count": null,
      "outputs": [
        {
          "output_type": "execute_result",
          "data": {
            "text/html": [
              "<div>\n",
              "<style scoped>\n",
              "    .dataframe tbody tr th:only-of-type {\n",
              "        vertical-align: middle;\n",
              "    }\n",
              "\n",
              "    .dataframe tbody tr th {\n",
              "        vertical-align: top;\n",
              "    }\n",
              "\n",
              "    .dataframe thead th {\n",
              "        text-align: right;\n",
              "    }\n",
              "</style>\n",
              "<table border=\"1\" class=\"dataframe\">\n",
              "  <thead>\n",
              "    <tr style=\"text-align: right;\">\n",
              "      <th></th>\n",
              "      <th>cleaned_tweets</th>\n",
              "      <th>sentiment</th>\n",
              "    </tr>\n",
              "  </thead>\n",
              "  <tbody>\n",
              "    <tr>\n",
              "      <th>0</th>\n",
              "      <td>video offic mind busi david solomon tell gs in...</td>\n",
              "      <td>0</td>\n",
              "    </tr>\n",
              "    <tr>\n",
              "      <th>1</th>\n",
              "      <td>price lumber lb f sinc hit ytd high maci turna...</td>\n",
              "      <td>0</td>\n",
              "    </tr>\n",
              "    <tr>\n",
              "      <th>2</th>\n",
              "      <td>say american dream dead</td>\n",
              "      <td>-1</td>\n",
              "    </tr>\n",
              "    <tr>\n",
              "      <th>3</th>\n",
              "      <td>barri silbert extrem optimist bitcoin predict ...</td>\n",
              "      <td>1</td>\n",
              "    </tr>\n",
              "    <tr>\n",
              "      <th>4</th>\n",
              "      <td>satellit avoid attack space junk circl earth paid</td>\n",
              "      <td>-1</td>\n",
              "    </tr>\n",
              "  </tbody>\n",
              "</table>\n",
              "</div>"
            ],
            "text/plain": [
              "                                      cleaned_tweets  sentiment\n",
              "0  video offic mind busi david solomon tell gs in...          0\n",
              "1  price lumber lb f sinc hit ytd high maci turna...          0\n",
              "2                            say american dream dead         -1\n",
              "3  barri silbert extrem optimist bitcoin predict ...          1\n",
              "4  satellit avoid attack space junk circl earth paid         -1"
            ]
          },
          "metadata": {
            "tags": []
          },
          "execution_count": 14
        }
      ]
    },
    {
      "cell_type": "code",
      "metadata": {
        "id": "I18_wyDwQPJK"
      },
      "source": [
        "import numpy as np"
      ],
      "execution_count": null,
      "outputs": []
    },
    {
      "cell_type": "code",
      "metadata": {
        "id": "6Yr7PUkDQ-Ux"
      },
      "source": [
        "import gensim\r\n",
        "from gensim.models.word2vec import Word2Vec\r\n",
        "\r\n",
        "#from nltk.tokenize import TweetTokenizer # a tweet tokenizer from nltk.\r\n",
        "#tokenizer = TweetTokenizer()\r\n",
        "\r\n",
        "from sklearn.model_selection import train_test_split"
      ],
      "execution_count": null,
      "outputs": []
    },
    {
      "cell_type": "code",
      "metadata": {
        "colab": {
          "base_uri": "https://localhost:8080/",
          "height": 345
        },
        "id": "Zfx6NKV3T_Dm",
        "outputId": "f9c895e4-eae2-4559-a0d2-96870e6f7686"
      },
      "source": [
        "senti.head(10)"
      ],
      "execution_count": null,
      "outputs": [
        {
          "output_type": "execute_result",
          "data": {
            "text/html": [
              "<div>\n",
              "<style scoped>\n",
              "    .dataframe tbody tr th:only-of-type {\n",
              "        vertical-align: middle;\n",
              "    }\n",
              "\n",
              "    .dataframe tbody tr th {\n",
              "        vertical-align: top;\n",
              "    }\n",
              "\n",
              "    .dataframe thead th {\n",
              "        text-align: right;\n",
              "    }\n",
              "</style>\n",
              "<table border=\"1\" class=\"dataframe\">\n",
              "  <thead>\n",
              "    <tr style=\"text-align: right;\">\n",
              "      <th></th>\n",
              "      <th>cleaned_tweets</th>\n",
              "      <th>sentiment</th>\n",
              "    </tr>\n",
              "  </thead>\n",
              "  <tbody>\n",
              "    <tr>\n",
              "      <th>0</th>\n",
              "      <td>video offic mind busi david solomon tell gs in...</td>\n",
              "      <td>0</td>\n",
              "    </tr>\n",
              "    <tr>\n",
              "      <th>1</th>\n",
              "      <td>price lumber lb f sinc hit ytd high maci turna...</td>\n",
              "      <td>0</td>\n",
              "    </tr>\n",
              "    <tr>\n",
              "      <th>2</th>\n",
              "      <td>say american dream dead</td>\n",
              "      <td>-1</td>\n",
              "    </tr>\n",
              "    <tr>\n",
              "      <th>3</th>\n",
              "      <td>barri silbert extrem optimist bitcoin predict ...</td>\n",
              "      <td>1</td>\n",
              "    </tr>\n",
              "    <tr>\n",
              "      <th>4</th>\n",
              "      <td>satellit avoid attack space junk circl earth paid</td>\n",
              "      <td>-1</td>\n",
              "    </tr>\n",
              "    <tr>\n",
              "      <th>5</th>\n",
              "      <td>david butler favorit fang stock realmoneysod a...</td>\n",
              "      <td>0</td>\n",
              "    </tr>\n",
              "    <tr>\n",
              "      <th>6</th>\n",
              "      <td>miss convo one favorit thinker</td>\n",
              "      <td>0</td>\n",
              "    </tr>\n",
              "    <tr>\n",
              "      <th>7</th>\n",
              "      <td>u intellig document nelson mandela made public</td>\n",
              "      <td>0</td>\n",
              "    </tr>\n",
              "    <tr>\n",
              "      <th>8</th>\n",
              "      <td>senat want emerg alert go netflix spotifi etc</td>\n",
              "      <td>1</td>\n",
              "    </tr>\n",
              "    <tr>\n",
              "      <th>9</th>\n",
              "      <td>hedg fund manag marc larsi say bitcoin k possibl</td>\n",
              "      <td>0</td>\n",
              "    </tr>\n",
              "  </tbody>\n",
              "</table>\n",
              "</div>"
            ],
            "text/plain": [
              "                                      cleaned_tweets  sentiment\n",
              "0  video offic mind busi david solomon tell gs in...          0\n",
              "1  price lumber lb f sinc hit ytd high maci turna...          0\n",
              "2                            say american dream dead         -1\n",
              "3  barri silbert extrem optimist bitcoin predict ...          1\n",
              "4  satellit avoid attack space junk circl earth paid         -1\n",
              "5  david butler favorit fang stock realmoneysod a...          0\n",
              "6                     miss convo one favorit thinker          0\n",
              "7     u intellig document nelson mandela made public          0\n",
              "8      senat want emerg alert go netflix spotifi etc          1\n",
              "9   hedg fund manag marc larsi say bitcoin k possibl          0"
            ]
          },
          "metadata": {
            "tags": []
          },
          "execution_count": 11
        }
      ]
    },
    {
      "cell_type": "code",
      "metadata": {
        "colab": {
          "base_uri": "https://localhost:8080/",
          "height": 345
        },
        "id": "eu45icOru70O",
        "outputId": "7f74bfbb-93e9-49a9-da2d-d369c24a0e63"
      },
      "source": [
        "senti['tokenized_text'] = [simple_preprocess(str(tweet), deacc=True) for tweet in senti['cleaned_tweets']]\r\n",
        "senti.head(10)"
      ],
      "execution_count": null,
      "outputs": [
        {
          "output_type": "execute_result",
          "data": {
            "text/html": [
              "<div>\n",
              "<style scoped>\n",
              "    .dataframe tbody tr th:only-of-type {\n",
              "        vertical-align: middle;\n",
              "    }\n",
              "\n",
              "    .dataframe tbody tr th {\n",
              "        vertical-align: top;\n",
              "    }\n",
              "\n",
              "    .dataframe thead th {\n",
              "        text-align: right;\n",
              "    }\n",
              "</style>\n",
              "<table border=\"1\" class=\"dataframe\">\n",
              "  <thead>\n",
              "    <tr style=\"text-align: right;\">\n",
              "      <th></th>\n",
              "      <th>cleaned_tweets</th>\n",
              "      <th>sentiment</th>\n",
              "      <th>tokenized_text</th>\n",
              "    </tr>\n",
              "  </thead>\n",
              "  <tbody>\n",
              "    <tr>\n",
              "      <th>0</th>\n",
              "      <td>video offic mind busi david solomon tell gs in...</td>\n",
              "      <td>0</td>\n",
              "      <td>[video, offic, mind, busi, david, solomon, tel...</td>\n",
              "    </tr>\n",
              "    <tr>\n",
              "      <th>1</th>\n",
              "      <td>price lumber lb f sinc hit ytd high maci turna...</td>\n",
              "      <td>0</td>\n",
              "      <td>[price, lumber, lb, sinc, hit, ytd, high, maci...</td>\n",
              "    </tr>\n",
              "    <tr>\n",
              "      <th>2</th>\n",
              "      <td>say american dream dead</td>\n",
              "      <td>-1</td>\n",
              "      <td>[say, american, dream, dead]</td>\n",
              "    </tr>\n",
              "    <tr>\n",
              "      <th>3</th>\n",
              "      <td>barri silbert extrem optimist bitcoin predict ...</td>\n",
              "      <td>1</td>\n",
              "      <td>[barri, silbert, extrem, optimist, bitcoin, pr...</td>\n",
              "    </tr>\n",
              "    <tr>\n",
              "      <th>4</th>\n",
              "      <td>satellit avoid attack space junk circl earth paid</td>\n",
              "      <td>-1</td>\n",
              "      <td>[satellit, avoid, attack, space, junk, circl, ...</td>\n",
              "    </tr>\n",
              "    <tr>\n",
              "      <th>5</th>\n",
              "      <td>david butler favorit fang stock realmoneysod a...</td>\n",
              "      <td>0</td>\n",
              "      <td>[david, butler, favorit, fang, stock, realmone...</td>\n",
              "    </tr>\n",
              "    <tr>\n",
              "      <th>6</th>\n",
              "      <td>miss convo one favorit thinker</td>\n",
              "      <td>0</td>\n",
              "      <td>[miss, convo, one, favorit, thinker]</td>\n",
              "    </tr>\n",
              "    <tr>\n",
              "      <th>7</th>\n",
              "      <td>u intellig document nelson mandela made public</td>\n",
              "      <td>0</td>\n",
              "      <td>[intellig, document, nelson, mandela, made, pu...</td>\n",
              "    </tr>\n",
              "    <tr>\n",
              "      <th>8</th>\n",
              "      <td>senat want emerg alert go netflix spotifi etc</td>\n",
              "      <td>1</td>\n",
              "      <td>[senat, want, emerg, alert, go, netflix, spoti...</td>\n",
              "    </tr>\n",
              "    <tr>\n",
              "      <th>9</th>\n",
              "      <td>hedg fund manag marc larsi say bitcoin k possibl</td>\n",
              "      <td>0</td>\n",
              "      <td>[hedg, fund, manag, marc, larsi, say, bitcoin,...</td>\n",
              "    </tr>\n",
              "  </tbody>\n",
              "</table>\n",
              "</div>"
            ],
            "text/plain": [
              "                                      cleaned_tweets  ...                                     tokenized_text\n",
              "0  video offic mind busi david solomon tell gs in...  ...  [video, offic, mind, busi, david, solomon, tel...\n",
              "1  price lumber lb f sinc hit ytd high maci turna...  ...  [price, lumber, lb, sinc, hit, ytd, high, maci...\n",
              "2                            say american dream dead  ...                       [say, american, dream, dead]\n",
              "3  barri silbert extrem optimist bitcoin predict ...  ...  [barri, silbert, extrem, optimist, bitcoin, pr...\n",
              "4  satellit avoid attack space junk circl earth paid  ...  [satellit, avoid, attack, space, junk, circl, ...\n",
              "5  david butler favorit fang stock realmoneysod a...  ...  [david, butler, favorit, fang, stock, realmone...\n",
              "6                     miss convo one favorit thinker  ...               [miss, convo, one, favorit, thinker]\n",
              "7     u intellig document nelson mandela made public  ...  [intellig, document, nelson, mandela, made, pu...\n",
              "8      senat want emerg alert go netflix spotifi etc  ...  [senat, want, emerg, alert, go, netflix, spoti...\n",
              "9   hedg fund manag marc larsi say bitcoin k possibl  ...  [hedg, fund, manag, marc, larsi, say, bitcoin,...\n",
              "\n",
              "[10 rows x 3 columns]"
            ]
          },
          "metadata": {
            "tags": []
          },
          "execution_count": 98
        }
      ]
    },
    {
      "cell_type": "markdown",
      "metadata": {
        "id": "8EysEn2OrwKQ"
      },
      "source": [
        "#Splitting into test and training"
      ]
    },
    {
      "cell_type": "code",
      "metadata": {
        "id": "pvWSTdUHvzzB"
      },
      "source": [
        "x_train, x_test, y_train, y_test = train_test_split(\r\n",
        "    senti['tokenized_text'],\r\n",
        "    senti['sentiment'],\r\n",
        "    shuffle = True,\r\n",
        "    test_size = 0.3,\r\n",
        "    random_state = random.randint(1,100)\r\n",
        ")"
      ],
      "execution_count": null,
      "outputs": []
    },
    {
      "cell_type": "code",
      "metadata": {
        "colab": {
          "base_uri": "https://localhost:8080/"
        },
        "id": "lBgkLRZhyAP2",
        "outputId": "684744ad-70e3-459f-9b87-1eff0f9c064a"
      },
      "source": [
        "x_train[0]"
      ],
      "execution_count": null,
      "outputs": [
        {
          "output_type": "execute_result",
          "data": {
            "text/plain": [
              "['video',\n",
              " 'offic',\n",
              " 'mind',\n",
              " 'busi',\n",
              " 'david',\n",
              " 'solomon',\n",
              " 'tell',\n",
              " 'gs',\n",
              " 'intern',\n",
              " 'learn',\n",
              " 'wa']"
            ]
          },
          "metadata": {
            "tags": []
          },
          "execution_count": 58
        }
      ]
    },
    {
      "cell_type": "markdown",
      "metadata": {
        "id": "Dzn2OcqcsFDY"
      },
      "source": [
        "# Word2Vec Model"
      ]
    },
    {
      "cell_type": "code",
      "metadata": {
        "id": "4fyOZN7I1bv5"
      },
      "source": [
        "import logging\r\n",
        "logging.basicConfig(format='%(asctime)s : %(levelname)s : %(message)s', level=logging.INFO)"
      ],
      "execution_count": null,
      "outputs": []
    },
    {
      "cell_type": "code",
      "metadata": {
        "colab": {
          "base_uri": "https://localhost:8080/"
        },
        "id": "uXS4sbvJyGbH",
        "outputId": "57f04d96-2d94-443e-f327-5ab8afbae388"
      },
      "source": [
        "model = Word2Vec(sentences=x_train,size=200, min_count=10)\r\n",
        "model.init_sims(replace=True)\r\n",
        "\r\n",
        "model_name=\"200features_10minwords\"\r\n",
        "model.save(model_name)\r\n"
      ],
      "execution_count": null,
      "outputs": [
        {
          "output_type": "stream",
          "text": [
            "2021-02-19 10:51:52,445 : INFO : collecting all words and their counts\n",
            "2021-02-19 10:51:52,445 : INFO : PROGRESS: at sentence #0, processed 0 words, keeping 0 word types\n",
            "2021-02-19 10:51:52,486 : INFO : PROGRESS: at sentence #10000, processed 101195 words, keeping 9840 word types\n",
            "2021-02-19 10:51:52,524 : INFO : collected 12693 word types from a corpus of 206098 raw words and 19908 sentences\n",
            "2021-02-19 10:51:52,525 : INFO : Loading a fresh vocabulary\n",
            "2021-02-19 10:51:52,540 : INFO : effective_min_count=10 retains 2909 unique words (22% of original 12693, drops 9784)\n",
            "2021-02-19 10:51:52,541 : INFO : effective_min_count=10 leaves 180984 word corpus (87% of original 206098, drops 25114)\n",
            "2021-02-19 10:51:52,559 : INFO : deleting the raw counts dictionary of 12693 items\n",
            "2021-02-19 10:51:52,560 : INFO : sample=0.001 downsamples 48 most-common words\n",
            "2021-02-19 10:51:52,561 : INFO : downsampling leaves estimated 165104 word corpus (91.2% of prior 180984)\n",
            "2021-02-19 10:51:52,575 : INFO : estimated required memory for 2909 words and 200 dimensions: 6108900 bytes\n",
            "2021-02-19 10:51:52,575 : INFO : resetting layer weights\n",
            "2021-02-19 10:51:53,314 : INFO : training model with 3 workers on 2909 vocabulary and 200 features, using sg=0 hs=0 sample=0.001 negative=5 window=5\n",
            "2021-02-19 10:51:53,563 : INFO : worker thread finished; awaiting finish of 2 more threads\n",
            "2021-02-19 10:51:53,573 : INFO : worker thread finished; awaiting finish of 1 more threads\n",
            "2021-02-19 10:51:53,574 : INFO : worker thread finished; awaiting finish of 0 more threads\n",
            "2021-02-19 10:51:53,574 : INFO : EPOCH - 1 : training on 206098 raw words (164996 effective words) took 0.3s, 659850 effective words/s\n",
            "2021-02-19 10:51:53,807 : INFO : worker thread finished; awaiting finish of 2 more threads\n",
            "2021-02-19 10:51:53,814 : INFO : worker thread finished; awaiting finish of 1 more threads\n",
            "2021-02-19 10:51:53,826 : INFO : worker thread finished; awaiting finish of 0 more threads\n",
            "2021-02-19 10:51:53,829 : INFO : EPOCH - 2 : training on 206098 raw words (165030 effective words) took 0.2s, 676398 effective words/s\n",
            "2021-02-19 10:51:54,088 : INFO : worker thread finished; awaiting finish of 2 more threads\n",
            "2021-02-19 10:51:54,098 : INFO : worker thread finished; awaiting finish of 1 more threads\n",
            "2021-02-19 10:51:54,099 : INFO : worker thread finished; awaiting finish of 0 more threads\n",
            "2021-02-19 10:51:54,100 : INFO : EPOCH - 3 : training on 206098 raw words (165104 effective words) took 0.3s, 631777 effective words/s\n",
            "2021-02-19 10:51:54,402 : INFO : worker thread finished; awaiting finish of 2 more threads\n",
            "2021-02-19 10:51:54,409 : INFO : worker thread finished; awaiting finish of 1 more threads\n",
            "2021-02-19 10:51:54,412 : INFO : worker thread finished; awaiting finish of 0 more threads\n",
            "2021-02-19 10:51:54,413 : INFO : EPOCH - 4 : training on 206098 raw words (165067 effective words) took 0.3s, 555598 effective words/s\n",
            "2021-02-19 10:51:54,683 : INFO : worker thread finished; awaiting finish of 2 more threads\n",
            "2021-02-19 10:51:54,689 : INFO : worker thread finished; awaiting finish of 1 more threads\n",
            "2021-02-19 10:51:54,697 : INFO : worker thread finished; awaiting finish of 0 more threads\n",
            "2021-02-19 10:51:54,698 : INFO : EPOCH - 5 : training on 206098 raw words (165043 effective words) took 0.3s, 601230 effective words/s\n",
            "2021-02-19 10:51:54,699 : INFO : training on a 1030490 raw words (825240 effective words) took 1.4s, 596105 effective words/s\n",
            "2021-02-19 10:51:54,700 : INFO : precomputing L2-norms of word weight vectors\n",
            "2021-02-19 10:51:54,727 : INFO : saving Word2Vec object under 200features_10minwords, separately None\n",
            "2021-02-19 10:51:54,728 : INFO : not storing attribute vectors_norm\n",
            "2021-02-19 10:51:54,729 : INFO : not storing attribute cum_table\n",
            "2021-02-19 10:51:54,778 : INFO : saved 200features_10minwords\n"
          ],
          "name": "stderr"
        }
      ]
    },
    {
      "cell_type": "code",
      "metadata": {
        "colab": {
          "base_uri": "https://localhost:8080/"
        },
        "id": "2PvtT9zk2LXd",
        "outputId": "a3c57c39-50de-46ec-f3ac-c627963ac8f7"
      },
      "source": [
        "model.wv.vectors.shape"
      ],
      "execution_count": null,
      "outputs": [
        {
          "output_type": "execute_result",
          "data": {
            "text/plain": [
              "(2909, 200)"
            ]
          },
          "metadata": {
            "tags": []
          },
          "execution_count": 63
        }
      ]
    },
    {
      "cell_type": "code",
      "metadata": {
        "colab": {
          "base_uri": "https://localhost:8080/"
        },
        "id": "PIvYnn5e66Ga",
        "outputId": "3616cfa2-6eeb-4de1-85be-862ec1301e3f"
      },
      "source": [
        "model.wv.most_similar(\"low\")"
      ],
      "execution_count": null,
      "outputs": [
        {
          "output_type": "execute_result",
          "data": {
            "text/plain": [
              "[('today', 0.9388736486434937),\n",
              " ('swing', 0.9308421611785889),\n",
              " ('room', 0.9253183603286743),\n",
              " ('trade', 0.9223634600639343),\n",
              " ('costba', 0.9200249314308167),\n",
              " ('dgb', 0.9179794788360596),\n",
              " ('come', 0.9113341569900513),\n",
              " ('huge', 0.9102002382278442),\n",
              " ('rt', 0.908700168132782),\n",
              " ('visit', 0.90758216381073)]"
            ]
          },
          "metadata": {
            "tags": []
          },
          "execution_count": 65
        }
      ]
    },
    {
      "cell_type": "code",
      "metadata": {
        "colab": {
          "base_uri": "https://localhost:8080/"
        },
        "id": "APZIiSVdF6Ks",
        "outputId": "de712c37-a123-41c7-b439-38af6e28e70b"
      },
      "source": [
        "model.wv['high']"
      ],
      "execution_count": null,
      "outputs": [
        {
          "output_type": "execute_result",
          "data": {
            "text/plain": [
              "array([ 9.33943391e-02,  1.83628257e-02, -7.31661767e-02,  2.20122151e-02,\n",
              "        9.81719419e-02,  7.57480320e-03, -8.98958668e-02, -5.12202531e-02,\n",
              "       -1.20134234e-01, -2.62328777e-02,  1.01101212e-01, -2.08177809e-02,\n",
              "       -1.33806765e-01, -2.32568737e-02,  5.95696010e-02, -7.97658321e-03,\n",
              "        2.41021663e-02, -3.02576926e-02, -3.62009965e-02, -3.08113284e-02,\n",
              "       -3.13441679e-02,  2.28232500e-04, -5.26359417e-02,  4.85615022e-02,\n",
              "       -5.94599843e-02, -1.05895754e-03, -2.60271151e-02,  7.98697248e-02,\n",
              "        3.80708016e-02,  2.34661996e-02,  4.20949906e-02,  2.77988762e-02,\n",
              "       -2.60840878e-02, -2.18718033e-02,  2.49187276e-02, -4.74505834e-02,\n",
              "       -4.21500988e-02, -1.15665831e-01, -2.68791988e-02,  3.24094817e-02,\n",
              "        5.67540675e-02, -1.25736699e-01,  9.17347372e-02, -2.84599345e-02,\n",
              "       -3.37998345e-02, -1.87700599e-01,  6.46536797e-02, -5.34543209e-02,\n",
              "        1.57552078e-01,  4.27442193e-02,  3.25426646e-02, -5.28507009e-02,\n",
              "       -3.67673486e-02, -6.75766841e-02, -4.87233289e-02, -4.71097417e-02,\n",
              "       -2.22665537e-02, -4.10218574e-02, -5.06365485e-02,  2.07275525e-03,\n",
              "       -1.75055087e-01,  8.55665356e-02,  3.07499501e-03, -6.20700046e-02,\n",
              "        8.18135738e-02, -5.52903265e-02,  9.77353472e-03, -1.03845231e-01,\n",
              "       -8.14043507e-02, -1.75830368e-02, -1.05958683e-02, -8.72820020e-02,\n",
              "       -3.45649198e-02,  8.11899826e-02, -1.26512516e-02,  3.73154245e-02,\n",
              "        4.67655547e-02,  2.45930143e-02, -3.39384228e-02,  3.06385998e-02,\n",
              "       -1.58805903e-02, -4.50648516e-02, -1.57798454e-02, -3.44593935e-02,\n",
              "        4.50821109e-02,  2.00665649e-02, -2.30663829e-02, -1.26334846e-01,\n",
              "        5.99311851e-03, -3.65029997e-03, -4.03607525e-02, -1.00817978e-02,\n",
              "       -2.52295043e-02, -6.91936612e-02, -3.28998417e-02,  6.08743653e-02,\n",
              "       -1.18022906e-02, -2.26719733e-02,  3.18603776e-02,  8.03455152e-03,\n",
              "        4.44252882e-03,  4.02309746e-03,  1.01230212e-01,  7.02412352e-02,\n",
              "       -8.10089929e-04, -6.79904372e-02, -3.28188539e-02, -1.07548647e-01,\n",
              "        6.63907304e-02,  1.75429225e-01,  6.69670105e-02,  1.18026622e-01,\n",
              "       -8.35129693e-02,  8.63302946e-02,  5.87158501e-02, -1.14775181e-01,\n",
              "       -8.02154094e-02, -3.60854529e-02, -5.00194542e-03,  3.85615304e-02,\n",
              "        3.05610653e-02, -7.43244886e-02, -9.04191062e-02, -4.01093401e-02,\n",
              "        1.08156472e-01,  1.26510076e-02,  7.17188790e-02, -9.03125294e-03,\n",
              "        1.03795178e-01, -1.89843141e-02,  9.48752984e-02, -7.41458461e-02,\n",
              "       -1.08256876e-01,  5.20925149e-02,  4.49833311e-02, -6.76203426e-03,\n",
              "        1.86847690e-02,  6.46715760e-02,  1.44360051e-01, -5.96166812e-02,\n",
              "        9.70855877e-02,  3.61323766e-02,  2.59933732e-02,  1.03195664e-03,\n",
              "       -4.23263293e-03,  2.22577192e-02, -3.09036747e-02, -2.39746133e-03,\n",
              "       -4.55497764e-02, -5.26944660e-02,  1.27654616e-02,  4.58848551e-02,\n",
              "        2.77659763e-02, -7.63836876e-02,  2.75452752e-02,  1.35087594e-01,\n",
              "        2.51487374e-01,  7.18403980e-02,  4.02838998e-02,  8.25594068e-02,\n",
              "        5.61773367e-02, -9.97857749e-02,  8.63975957e-02, -1.29789552e-02,\n",
              "       -2.79100481e-02,  9.99080613e-02,  8.98668244e-02, -1.11252153e-02,\n",
              "       -1.25893980e-01,  1.10252529e-01, -2.48497855e-02, -5.81086315e-02,\n",
              "       -3.34139466e-02, -7.60127753e-02, -2.88462676e-02,  5.08721396e-02,\n",
              "        3.35088894e-02, -5.40418476e-02, -2.32036471e-01,  4.86101322e-02,\n",
              "       -1.69087313e-02,  1.11676984e-01,  1.11496178e-02,  7.54142478e-02,\n",
              "       -2.00769566e-02,  7.78672472e-02, -2.56328899e-02, -6.45278394e-02,\n",
              "        9.70741548e-03, -1.29302874e-01, -7.08439201e-02, -1.22161783e-01,\n",
              "       -1.11290969e-01, -7.00412914e-02, -8.17219689e-02, -3.38794254e-02,\n",
              "        6.89066201e-02, -1.56925514e-01, -5.93413822e-02,  7.51040056e-02],\n",
              "      dtype=float32)"
            ]
          },
          "metadata": {
            "tags": []
          },
          "execution_count": 67
        }
      ]
    },
    {
      "cell_type": "markdown",
      "metadata": {
        "id": "P-8yyu6VsPi6"
      },
      "source": [
        "#Combining Word Vectors of each tweet"
      ]
    },
    {
      "cell_type": "code",
      "metadata": {
        "id": "kedOQSfwWh32"
      },
      "source": [
        "# Function to average all word vectors in a paragraph\r\n",
        "def featureVecMethod(words, model, num_features):\r\n",
        "    # Pre-initialising empty numpy array for speed\r\n",
        "    featureVec = np.zeros(num_features,dtype=\"float32\")\r\n",
        "    nwords = 0\r\n",
        "    \r\n",
        "    #Converting Index2Word which is a list to a set for better speed in the execution.\r\n",
        "    index2word_set = set(model.wv.index2word)\r\n",
        "    \r\n",
        "    for word in  words:\r\n",
        "        if word in index2word_set:\r\n",
        "            nwords = nwords + 1\r\n",
        "            featureVec = np.add(featureVec,model[word])\r\n",
        "    \r\n",
        "    # Dividing the result by number of words to get average\r\n",
        "    featureVec = np.divide(featureVec, nwords)\r\n",
        "    return featureVec"
      ],
      "execution_count": null,
      "outputs": []
    },
    {
      "cell_type": "code",
      "metadata": {
        "id": "q5-bh8mWWlPq"
      },
      "source": [
        "# Function for calculating the average feature vector\r\n",
        "def getAvgFeatureVecs(reviews, model, num_features):\r\n",
        "    counter = 0\r\n",
        "    reviewFeatureVecs = np.zeros((len(reviews),num_features),dtype=\"float32\")\r\n",
        "    for review in reviews:\r\n",
        "        # Printing a status message every 1000th review\r\n",
        "        if counter%1000 == 0:\r\n",
        "            print(\"Review %d of %d\"%(counter,len(reviews)))\r\n",
        "            \r\n",
        "        reviewFeatureVecs[counter] = featureVecMethod(review, model, num_features)\r\n",
        "        counter = counter+1\r\n",
        "        \r\n",
        "    return reviewFeatureVecs"
      ],
      "execution_count": null,
      "outputs": []
    },
    {
      "cell_type": "markdown",
      "metadata": {
        "id": "f8vOQdwZsb5L"
      },
      "source": [
        "combining for x_train vectors"
      ]
    },
    {
      "cell_type": "code",
      "metadata": {
        "colab": {
          "base_uri": "https://localhost:8080/"
        },
        "id": "KNOQqtdDWsk0",
        "outputId": "e7af5105-4bc9-4450-ff34-8adfda38470a"
      },
      "source": [
        "# Calculating average feature vector for training set\r\n",
        " \r\n",
        "trainDataVecs = getAvgFeatureVecs(x_train, model, 200)"
      ],
      "execution_count": null,
      "outputs": [
        {
          "output_type": "stream",
          "text": [
            "Review 0 of 19908\n"
          ],
          "name": "stdout"
        },
        {
          "output_type": "stream",
          "text": [
            "/usr/local/lib/python3.6/dist-packages/ipykernel_launcher.py:13: DeprecationWarning: Call to deprecated `__getitem__` (Method will be removed in 4.0.0, use self.wv.__getitem__() instead).\n",
            "  del sys.path[0]\n"
          ],
          "name": "stderr"
        },
        {
          "output_type": "stream",
          "text": [
            "Review 1000 of 19908\n",
            "Review 2000 of 19908\n",
            "Review 3000 of 19908\n",
            "Review 4000 of 19908\n",
            "Review 5000 of 19908\n",
            "Review 6000 of 19908\n"
          ],
          "name": "stdout"
        },
        {
          "output_type": "stream",
          "text": [
            "/usr/local/lib/python3.6/dist-packages/ipykernel_launcher.py:16: RuntimeWarning: invalid value encountered in true_divide\n",
            "  app.launch_new_instance()\n"
          ],
          "name": "stderr"
        },
        {
          "output_type": "stream",
          "text": [
            "Review 7000 of 19908\n",
            "Review 8000 of 19908\n",
            "Review 9000 of 19908\n",
            "Review 10000 of 19908\n",
            "Review 11000 of 19908\n",
            "Review 12000 of 19908\n",
            "Review 13000 of 19908\n",
            "Review 14000 of 19908\n",
            "Review 15000 of 19908\n",
            "Review 16000 of 19908\n",
            "Review 17000 of 19908\n",
            "Review 18000 of 19908\n",
            "Review 19000 of 19908\n"
          ],
          "name": "stdout"
        }
      ]
    },
    {
      "cell_type": "markdown",
      "metadata": {
        "id": "6OSH7BgLsj6B"
      },
      "source": [
        "combining of x_test vectors"
      ]
    },
    {
      "cell_type": "code",
      "metadata": {
        "colab": {
          "base_uri": "https://localhost:8080/"
        },
        "id": "AM8Ky2ykX8KO",
        "outputId": "ab17961f-3ca9-43ba-83ac-4f04e75c1497"
      },
      "source": [
        "testDataVecs = getAvgFeatureVecs(x_test, model, 200)"
      ],
      "execution_count": null,
      "outputs": [
        {
          "output_type": "stream",
          "text": [
            "Review 0 of 8532\n"
          ],
          "name": "stdout"
        },
        {
          "output_type": "stream",
          "text": [
            "/usr/local/lib/python3.6/dist-packages/ipykernel_launcher.py:13: DeprecationWarning: Call to deprecated `__getitem__` (Method will be removed in 4.0.0, use self.wv.__getitem__() instead).\n",
            "  del sys.path[0]\n",
            "/usr/local/lib/python3.6/dist-packages/ipykernel_launcher.py:16: RuntimeWarning: invalid value encountered in true_divide\n",
            "  app.launch_new_instance()\n"
          ],
          "name": "stderr"
        },
        {
          "output_type": "stream",
          "text": [
            "Review 1000 of 8532\n",
            "Review 2000 of 8532\n",
            "Review 3000 of 8532\n",
            "Review 4000 of 8532\n",
            "Review 5000 of 8532\n",
            "Review 6000 of 8532\n",
            "Review 7000 of 8532\n",
            "Review 8000 of 8532\n"
          ],
          "name": "stdout"
        }
      ]
    },
    {
      "cell_type": "code",
      "metadata": {
        "colab": {
          "base_uri": "https://localhost:8080/"
        },
        "id": "e_A-HBV-acPa",
        "outputId": "a4f8bf72-e628-4fc2-af9d-28365f800927"
      },
      "source": [
        "print(np.any(np.isnan(trainDataVecs)))\r\n",
        "print(np.all(np.isfinite(trainDataVecs)))\r\n",
        "trainDataVecs = np.nan_to_num(trainDataVecs,nan=0)"
      ],
      "execution_count": null,
      "outputs": [
        {
          "output_type": "stream",
          "text": [
            "True\n",
            "False\n"
          ],
          "name": "stdout"
        }
      ]
    },
    {
      "cell_type": "markdown",
      "metadata": {
        "id": "aiQg-sEWs2MV"
      },
      "source": [
        "#Fitting"
      ]
    },
    {
      "cell_type": "code",
      "metadata": {
        "colab": {
          "base_uri": "https://localhost:8080/"
        },
        "id": "8aQsVK_zYyg-",
        "outputId": "4904f21f-4614-4d34-d9ae-0b510458491f"
      },
      "source": [
        "from sklearn.tree import DecisionTreeClassifier\r\n",
        "\r\n",
        "clf=DecisionTreeClassifier()\r\n",
        "\r\n",
        "clf.fit(trainDataVecs,y_train)"
      ],
      "execution_count": null,
      "outputs": [
        {
          "output_type": "execute_result",
          "data": {
            "text/plain": [
              "DecisionTreeClassifier(ccp_alpha=0.0, class_weight=None, criterion='gini',\n",
              "                       max_depth=None, max_features=None, max_leaf_nodes=None,\n",
              "                       min_impurity_decrease=0.0, min_impurity_split=None,\n",
              "                       min_samples_leaf=1, min_samples_split=2,\n",
              "                       min_weight_fraction_leaf=0.0, presort='deprecated',\n",
              "                       random_state=None, splitter='best')"
            ]
          },
          "metadata": {
            "tags": []
          },
          "execution_count": 91
        }
      ]
    },
    {
      "cell_type": "markdown",
      "metadata": {
        "id": "Z7qGc1Des9P1"
      },
      "source": [
        "#Testing"
      ]
    },
    {
      "cell_type": "code",
      "metadata": {
        "id": "NT87oC4HjlT0"
      },
      "source": [
        "testDataVecs = np.nan_to_num(testDataVecs,nan=0)"
      ],
      "execution_count": null,
      "outputs": []
    },
    {
      "cell_type": "code",
      "metadata": {
        "colab": {
          "base_uri": "https://localhost:8080/"
        },
        "id": "CEYAzXpVerva",
        "outputId": "64d3c27d-b3f2-4205-8e85-c12a19b21455"
      },
      "source": [
        "from sklearn.metrics import classification_report\r\n",
        "test_predictions=clf.predict(testDataVecs)\r\n",
        "print(classification_report(y_test,test_predictions))"
      ],
      "execution_count": null,
      "outputs": [
        {
          "output_type": "stream",
          "text": [
            "              precision    recall  f1-score   support\n",
            "\n",
            "          -1       0.47      0.52      0.50       774\n",
            "           0       0.83      0.81      0.82      5190\n",
            "           1       0.70      0.71      0.71      2568\n",
            "\n",
            "    accuracy                           0.76      8532\n",
            "   macro avg       0.67      0.68      0.67      8532\n",
            "weighted avg       0.76      0.76      0.76      8532\n",
            "\n"
          ],
          "name": "stdout"
        }
      ]
    }
  ]
}